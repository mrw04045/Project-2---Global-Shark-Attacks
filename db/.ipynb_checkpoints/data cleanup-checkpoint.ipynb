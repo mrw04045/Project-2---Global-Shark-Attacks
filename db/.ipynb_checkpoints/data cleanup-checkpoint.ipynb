{
 "cells": [
  {
   "cell_type": "code",
   "execution_count": 1,
   "metadata": {},
   "outputs": [],
   "source": [
    "import pandas as pd\n",
    "import numpy as np\n",
    "from io import StringIO\n",
    "from sqlalchemy import create_engine\n",
    "import sqlite3"
   ]
  },
  {
   "cell_type": "code",
   "execution_count": 2,
   "metadata": {},
   "outputs": [],
   "source": [
    "basedata_df = pd.read_csv(\"shark_attacks.csv\")"
   ]
  },
  {
   "cell_type": "code",
   "execution_count": 3,
   "metadata": {},
   "outputs": [
    {
     "data": {
      "text/html": [
       "<div>\n",
       "<style scoped>\n",
       "    .dataframe tbody tr th:only-of-type {\n",
       "        vertical-align: middle;\n",
       "    }\n",
       "\n",
       "    .dataframe tbody tr th {\n",
       "        vertical-align: top;\n",
       "    }\n",
       "\n",
       "    .dataframe thead th {\n",
       "        text-align: right;\n",
       "    }\n",
       "</style>\n",
       "<table border=\"1\" class=\"dataframe\">\n",
       "  <thead>\n",
       "    <tr style=\"text-align: right;\">\n",
       "      <th></th>\n",
       "      <th>Case Number</th>\n",
       "      <th>Date</th>\n",
       "      <th>Year</th>\n",
       "      <th>Type</th>\n",
       "      <th>Country</th>\n",
       "      <th>Area</th>\n",
       "      <th>Location</th>\n",
       "      <th>Activity</th>\n",
       "      <th>Name</th>\n",
       "      <th>Sex</th>\n",
       "      <th>Age</th>\n",
       "      <th>Injury</th>\n",
       "      <th>Fatal (Y/N)</th>\n",
       "      <th>Time</th>\n",
       "      <th>Species</th>\n",
       "      <th>Investigator or Source</th>\n",
       "      <th>href formula</th>\n",
       "    </tr>\n",
       "  </thead>\n",
       "  <tbody>\n",
       "    <tr>\n",
       "      <th>0</th>\n",
       "      <td>2018.06.25</td>\n",
       "      <td>25-Jun-18</td>\n",
       "      <td>2018.0</td>\n",
       "      <td>Boating</td>\n",
       "      <td>USA</td>\n",
       "      <td>California</td>\n",
       "      <td>Oceanside, San Diego County</td>\n",
       "      <td>Paddling</td>\n",
       "      <td>Julie Wolfe</td>\n",
       "      <td>F</td>\n",
       "      <td>57</td>\n",
       "      <td>No injury to occupant, outrigger canoe and pad...</td>\n",
       "      <td>N</td>\n",
       "      <td>18h00</td>\n",
       "      <td>White shark</td>\n",
       "      <td>R. Collier, GSAF</td>\n",
       "      <td>http://sharkattackfile.net/spreadsheets/pdf_di...</td>\n",
       "    </tr>\n",
       "    <tr>\n",
       "      <th>1</th>\n",
       "      <td>2018.06.18</td>\n",
       "      <td>18-Jun-18</td>\n",
       "      <td>2018.0</td>\n",
       "      <td>Unprovoked</td>\n",
       "      <td>USA</td>\n",
       "      <td>Georgia</td>\n",
       "      <td>St. Simon Island, Glynn County</td>\n",
       "      <td>Standing</td>\n",
       "      <td>Adyson McNeely</td>\n",
       "      <td>F</td>\n",
       "      <td>11</td>\n",
       "      <td>Minor injury to left thigh</td>\n",
       "      <td>N</td>\n",
       "      <td>14h00  -15h00</td>\n",
       "      <td>NaN</td>\n",
       "      <td>K.McMurray, TrackingSharks.com</td>\n",
       "      <td>http://sharkattackfile.net/spreadsheets/pdf_di...</td>\n",
       "    </tr>\n",
       "    <tr>\n",
       "      <th>2</th>\n",
       "      <td>2018.06.09</td>\n",
       "      <td>9-Jun-18</td>\n",
       "      <td>2018.0</td>\n",
       "      <td>Invalid</td>\n",
       "      <td>USA</td>\n",
       "      <td>Hawaii</td>\n",
       "      <td>Habush, Oahu</td>\n",
       "      <td>Surfing</td>\n",
       "      <td>John Denges</td>\n",
       "      <td>M</td>\n",
       "      <td>48</td>\n",
       "      <td>Injury to left lower leg from surfboard skeg</td>\n",
       "      <td>N</td>\n",
       "      <td>07h45</td>\n",
       "      <td>NaN</td>\n",
       "      <td>K.McMurray, TrackingSharks.com</td>\n",
       "      <td>http://sharkattackfile.net/spreadsheets/pdf_di...</td>\n",
       "    </tr>\n",
       "    <tr>\n",
       "      <th>3</th>\n",
       "      <td>2018.06.08</td>\n",
       "      <td>8-Jun-18</td>\n",
       "      <td>2018.0</td>\n",
       "      <td>Unprovoked</td>\n",
       "      <td>AUSTRALIA</td>\n",
       "      <td>New South Wales</td>\n",
       "      <td>Arrawarra Headland</td>\n",
       "      <td>Surfing</td>\n",
       "      <td>male</td>\n",
       "      <td>M</td>\n",
       "      <td>NaN</td>\n",
       "      <td>Minor injury to lower leg</td>\n",
       "      <td>N</td>\n",
       "      <td>NaN</td>\n",
       "      <td>2 m shark</td>\n",
       "      <td>B. Myatt, GSAF</td>\n",
       "      <td>http://sharkattackfile.net/spreadsheets/pdf_di...</td>\n",
       "    </tr>\n",
       "    <tr>\n",
       "      <th>4</th>\n",
       "      <td>2018.06.04</td>\n",
       "      <td>4-Jun-18</td>\n",
       "      <td>2018.0</td>\n",
       "      <td>Provoked</td>\n",
       "      <td>MEXICO</td>\n",
       "      <td>Colima</td>\n",
       "      <td>La Ticla</td>\n",
       "      <td>Free diving</td>\n",
       "      <td>Gustavo Ramos</td>\n",
       "      <td>M</td>\n",
       "      <td>NaN</td>\n",
       "      <td>Lacerations to leg &amp; hand shark PROVOKED INCIDENT</td>\n",
       "      <td>N</td>\n",
       "      <td>NaN</td>\n",
       "      <td>Tiger shark, 3m</td>\n",
       "      <td>A .Kipper</td>\n",
       "      <td>http://sharkattackfile.net/spreadsheets/pdf_di...</td>\n",
       "    </tr>\n",
       "  </tbody>\n",
       "</table>\n",
       "</div>"
      ],
      "text/plain": [
       "  Case Number       Date    Year        Type    Country             Area  \\\n",
       "0  2018.06.25  25-Jun-18  2018.0     Boating        USA       California   \n",
       "1  2018.06.18  18-Jun-18  2018.0  Unprovoked        USA          Georgia   \n",
       "2  2018.06.09   9-Jun-18  2018.0     Invalid        USA           Hawaii   \n",
       "3  2018.06.08   8-Jun-18  2018.0  Unprovoked  AUSTRALIA  New South Wales   \n",
       "4  2018.06.04   4-Jun-18  2018.0    Provoked     MEXICO           Colima   \n",
       "\n",
       "                         Location     Activity             Name Sex  Age  \\\n",
       "0     Oceanside, San Diego County     Paddling      Julie Wolfe   F   57   \n",
       "1  St. Simon Island, Glynn County     Standing  Adyson McNeely    F   11   \n",
       "2                    Habush, Oahu      Surfing      John Denges   M   48   \n",
       "3              Arrawarra Headland      Surfing             male   M  NaN   \n",
       "4                        La Ticla  Free diving   Gustavo Ramos    M  NaN   \n",
       "\n",
       "                                              Injury Fatal (Y/N)  \\\n",
       "0  No injury to occupant, outrigger canoe and pad...           N   \n",
       "1                         Minor injury to left thigh           N   \n",
       "2       Injury to left lower leg from surfboard skeg           N   \n",
       "3                          Minor injury to lower leg           N   \n",
       "4  Lacerations to leg & hand shark PROVOKED INCIDENT           N   \n",
       "\n",
       "            Time          Species          Investigator or Source  \\\n",
       "0          18h00      White shark                R. Collier, GSAF   \n",
       "1  14h00  -15h00              NaN  K.McMurray, TrackingSharks.com   \n",
       "2          07h45              NaN  K.McMurray, TrackingSharks.com   \n",
       "3            NaN        2 m shark                  B. Myatt, GSAF   \n",
       "4            NaN  Tiger shark, 3m                       A .Kipper   \n",
       "\n",
       "                                        href formula  \n",
       "0  http://sharkattackfile.net/spreadsheets/pdf_di...  \n",
       "1  http://sharkattackfile.net/spreadsheets/pdf_di...  \n",
       "2  http://sharkattackfile.net/spreadsheets/pdf_di...  \n",
       "3  http://sharkattackfile.net/spreadsheets/pdf_di...  \n",
       "4  http://sharkattackfile.net/spreadsheets/pdf_di...  "
      ]
     },
     "execution_count": 3,
     "metadata": {},
     "output_type": "execute_result"
    }
   ],
   "source": [
    "basedata_df = basedata_df.drop(columns = [\"Unnamed: 17\", \"Unnamed: 18\"])\n",
    "basedata_df.head()"
   ]
  },
  {
   "cell_type": "code",
   "execution_count": 4,
   "metadata": {},
   "outputs": [],
   "source": [
    "df_cleaning = basedata_df.dropna()"
   ]
  },
  {
   "cell_type": "code",
   "execution_count": 5,
   "metadata": {},
   "outputs": [
    {
     "data": {
      "text/html": [
       "<div>\n",
       "<style scoped>\n",
       "    .dataframe tbody tr th:only-of-type {\n",
       "        vertical-align: middle;\n",
       "    }\n",
       "\n",
       "    .dataframe tbody tr th {\n",
       "        vertical-align: top;\n",
       "    }\n",
       "\n",
       "    .dataframe thead th {\n",
       "        text-align: right;\n",
       "    }\n",
       "</style>\n",
       "<table border=\"1\" class=\"dataframe\">\n",
       "  <thead>\n",
       "    <tr style=\"text-align: right;\">\n",
       "      <th></th>\n",
       "      <th>Year</th>\n",
       "    </tr>\n",
       "  </thead>\n",
       "  <tbody>\n",
       "    <tr>\n",
       "      <th>count</th>\n",
       "      <td>6300.000000</td>\n",
       "    </tr>\n",
       "    <tr>\n",
       "      <th>mean</th>\n",
       "      <td>1927.272381</td>\n",
       "    </tr>\n",
       "    <tr>\n",
       "      <th>std</th>\n",
       "      <td>281.116308</td>\n",
       "    </tr>\n",
       "    <tr>\n",
       "      <th>min</th>\n",
       "      <td>0.000000</td>\n",
       "    </tr>\n",
       "    <tr>\n",
       "      <th>25%</th>\n",
       "      <td>1942.000000</td>\n",
       "    </tr>\n",
       "    <tr>\n",
       "      <th>50%</th>\n",
       "      <td>1977.000000</td>\n",
       "    </tr>\n",
       "    <tr>\n",
       "      <th>75%</th>\n",
       "      <td>2005.000000</td>\n",
       "    </tr>\n",
       "    <tr>\n",
       "      <th>max</th>\n",
       "      <td>2018.000000</td>\n",
       "    </tr>\n",
       "  </tbody>\n",
       "</table>\n",
       "</div>"
      ],
      "text/plain": [
       "              Year\n",
       "count  6300.000000\n",
       "mean   1927.272381\n",
       "std     281.116308\n",
       "min       0.000000\n",
       "25%    1942.000000\n",
       "50%    1977.000000\n",
       "75%    2005.000000\n",
       "max    2018.000000"
      ]
     },
     "execution_count": 5,
     "metadata": {},
     "output_type": "execute_result"
    }
   ],
   "source": [
    "basedata_df.describe()"
   ]
  },
  {
   "cell_type": "code",
   "execution_count": 6,
   "metadata": {},
   "outputs": [
    {
     "data": {
      "text/html": [
       "<div>\n",
       "<style scoped>\n",
       "    .dataframe tbody tr th:only-of-type {\n",
       "        vertical-align: middle;\n",
       "    }\n",
       "\n",
       "    .dataframe tbody tr th {\n",
       "        vertical-align: top;\n",
       "    }\n",
       "\n",
       "    .dataframe thead th {\n",
       "        text-align: right;\n",
       "    }\n",
       "</style>\n",
       "<table border=\"1\" class=\"dataframe\">\n",
       "  <thead>\n",
       "    <tr style=\"text-align: right;\">\n",
       "      <th></th>\n",
       "      <th>Year</th>\n",
       "    </tr>\n",
       "  </thead>\n",
       "  <tbody>\n",
       "    <tr>\n",
       "      <th>count</th>\n",
       "      <td>1423.000000</td>\n",
       "    </tr>\n",
       "    <tr>\n",
       "      <th>mean</th>\n",
       "      <td>1987.446943</td>\n",
       "    </tr>\n",
       "    <tr>\n",
       "      <th>std</th>\n",
       "      <td>94.361381</td>\n",
       "    </tr>\n",
       "    <tr>\n",
       "      <th>min</th>\n",
       "      <td>0.000000</td>\n",
       "    </tr>\n",
       "    <tr>\n",
       "      <th>25%</th>\n",
       "      <td>1978.000000</td>\n",
       "    </tr>\n",
       "    <tr>\n",
       "      <th>50%</th>\n",
       "      <td>2000.000000</td>\n",
       "    </tr>\n",
       "    <tr>\n",
       "      <th>75%</th>\n",
       "      <td>2009.000000</td>\n",
       "    </tr>\n",
       "    <tr>\n",
       "      <th>max</th>\n",
       "      <td>2018.000000</td>\n",
       "    </tr>\n",
       "  </tbody>\n",
       "</table>\n",
       "</div>"
      ],
      "text/plain": [
       "              Year\n",
       "count  1423.000000\n",
       "mean   1987.446943\n",
       "std      94.361381\n",
       "min       0.000000\n",
       "25%    1978.000000\n",
       "50%    2000.000000\n",
       "75%    2009.000000\n",
       "max    2018.000000"
      ]
     },
     "execution_count": 6,
     "metadata": {},
     "output_type": "execute_result"
    }
   ],
   "source": [
    "df_cleaning.describe()"
   ]
  },
  {
   "cell_type": "code",
   "execution_count": 7,
   "metadata": {},
   "outputs": [
    {
     "data": {
      "text/plain": [
       "0.0"
      ]
     },
     "execution_count": 7,
     "metadata": {},
     "output_type": "execute_result"
    }
   ],
   "source": [
    "df_cleaning[\"Year\"].min()"
   ]
  },
  {
   "cell_type": "code",
   "execution_count": 8,
   "metadata": {},
   "outputs": [],
   "source": [
    "df_cleaning = df_cleaning[df_cleaning[\"Year\"] != 0]"
   ]
  },
  {
   "cell_type": "code",
   "execution_count": 9,
   "metadata": {},
   "outputs": [
    {
     "data": {
      "text/plain": [
       "1868.0"
      ]
     },
     "execution_count": 9,
     "metadata": {},
     "output_type": "execute_result"
    }
   ],
   "source": [
    "df_cleaning[\"Year\"].min()"
   ]
  },
  {
   "cell_type": "code",
   "execution_count": 10,
   "metadata": {},
   "outputs": [
    {
     "data": {
      "text/plain": [
       "2018.0"
      ]
     },
     "execution_count": 10,
     "metadata": {},
     "output_type": "execute_result"
    }
   ],
   "source": [
    "df_cleaning[\"Year\"].max()"
   ]
  },
  {
   "cell_type": "code",
   "execution_count": 11,
   "metadata": {},
   "outputs": [
    {
     "data": {
      "text/plain": [
       "['Case Number',\n",
       " 'Date',\n",
       " 'Year',\n",
       " 'Type',\n",
       " 'Country',\n",
       " 'Area',\n",
       " 'Location',\n",
       " 'Activity',\n",
       " 'Name',\n",
       " 'Sex',\n",
       " 'Age',\n",
       " 'Injury',\n",
       " 'Fatal (Y/N)',\n",
       " 'Time',\n",
       " 'Species',\n",
       " 'Investigator or Source',\n",
       " 'href formula']"
      ]
     },
     "execution_count": 11,
     "metadata": {},
     "output_type": "execute_result"
    }
   ],
   "source": [
    "list(df_cleaning)"
   ]
  },
  {
   "cell_type": "code",
   "execution_count": 12,
   "metadata": {},
   "outputs": [
    {
     "data": {
      "text/plain": [
       "array(['F', 'M', 'lli'], dtype=object)"
      ]
     },
     "execution_count": 12,
     "metadata": {},
     "output_type": "execute_result"
    }
   ],
   "source": [
    "df_cleaning.Sex.unique()"
   ]
  },
  {
   "cell_type": "code",
   "execution_count": 13,
   "metadata": {},
   "outputs": [
    {
     "data": {
      "text/plain": [
       "array(['F', 'M'], dtype=object)"
      ]
     },
     "execution_count": 13,
     "metadata": {},
     "output_type": "execute_result"
    }
   ],
   "source": [
    "df_cleaning = df_cleaning[df_cleaning[\"Sex\"] != 'lli']\n",
    "df_cleaning.Sex.unique()"
   ]
  },
  {
   "cell_type": "code",
   "execution_count": 14,
   "metadata": {},
   "outputs": [
    {
     "data": {
      "text/plain": [
       "array(['Boating', 'Unprovoked', 'Provoked', 'Invalid', 'Sea Disaster'],\n",
       "      dtype=object)"
      ]
     },
     "execution_count": 14,
     "metadata": {},
     "output_type": "execute_result"
    }
   ],
   "source": [
    "df_cleaning.Type.unique()"
   ]
  },
  {
   "cell_type": "code",
   "execution_count": 15,
   "metadata": {},
   "outputs": [
    {
     "data": {
      "text/plain": [
       "array(['USA', 'BRAZIL', 'AUSTRALIA', 'ENGLAND', 'COSTA RICA', 'MALDIVES',\n",
       "       'SOUTH AFRICA', 'CUBA', 'BAHAMAS', 'INDONESIA', 'SPAIN', 'EGYPT',\n",
       "       'NEW ZEALAND', 'FRENCH POLYNESIA', 'NEW CALEDONIA', 'ECUADOR',\n",
       "       'THAILAND', 'REUNION', 'MEXICO', 'JAMAICA', 'ITALY',\n",
       "       'PAPUA NEW GUINEA', 'RUSSIA', 'SEYCHELLES', 'VIETNAM',\n",
       "       'MOZAMBIQUE', 'SCOTLAND', 'UNITED KINGDOM', 'TAIWAN', 'GUAM',\n",
       "       'CROATIA', 'FIJI', 'TONGA', 'ST. MAARTIN', 'GRAND CAYMAN',\n",
       "       'VANUATU', 'VENEZUELA', 'TURKS & CAICOS', 'OKINAWA',\n",
       "       'MARSHALL ISLANDS', 'HONG KONG', 'JAPAN', 'SOUTH KOREA', 'ISRAEL',\n",
       "       'MICRONESIA', 'COLUMBIA', 'NEW BRITAIN', 'PALAU',\n",
       "       'SOLOMON ISLANDS', 'FEDERATED STATES OF MICRONESIA', 'GREECE',\n",
       "       'BRITISH WEST INDIES', 'NORTH PACIFIC OCEAN', 'BERMUDA',\n",
       "       'AMERICAN SAMOA', 'PACIFIC OCEAN', 'SENEGAL', 'ARGENTINA',\n",
       "       'EL SALVADOR', 'IRAQ', 'PANAMA', 'INDIA'], dtype=object)"
      ]
     },
     "execution_count": 15,
     "metadata": {},
     "output_type": "execute_result"
    }
   ],
   "source": [
    "# strip all leading and trailing spaces of Country column\n",
    "df_cleaning.Country = df_cleaning.Country.str.strip()\n",
    "df_cleaning.Country.unique()"
   ]
  },
  {
   "cell_type": "code",
   "execution_count": 16,
   "metadata": {},
   "outputs": [
    {
     "data": {
      "text/plain": [
       "array(['California', 'Pernambuco', 'Florida', 'Queensland', 'Cornwall',\n",
       "       'Cocos Island', 'Western Australia', 'Alifu Alifu Atoll',\n",
       "       'Western Cape Province', 'Eastern Cape Province', 'Hawaii',\n",
       "       'Victoria', 'New South Wales', 'Fernando de Noronha',\n",
       "       'Holquin Province', 'South Australia', 'Massachusetts',\n",
       "       'South Carolina', 'New Providence', 'Bali', 'Alicante Province',\n",
       "       'Texas', 'North Carolina', 'Suez', 'North Island', 'Tuamotos',\n",
       "       'Grand Terre', 'Galapagos Islands', 'Phuket', 'Tasmania',\n",
       "       'Le Port', 'Rangiroa', 'Saint-Gilles-les-Bains', 'Bora Bora',\n",
       "       'd’Étang-Salé', 'Abaco Islands', 'Alabama', 'Louisiana',\n",
       "       'Delaware', 'Society Islands', 'South Island', 'North Province',\n",
       "       'Oregon', 'Exuma Islands', 'Santa Cruz Island', 'Saint-Gilles',\n",
       "       'Quintana Roo', 'Tuamotus', 'St. Catherine', 'Sinaloa', 'Sardinia',\n",
       "       'Guerrero', 'Central Province',\n",
       "       'Telyakovsky Bay, Khasan,  Primorsky Krai (Far East)', 'Praslin',\n",
       "       'KwaZulu-Natal', 'Loyalty Islands', 'West End',\n",
       "       'South Sinai Peninsula', 'Maine', 'Grand Canary Island',\n",
       "       'New York', 'Binh Dinh Province', 'Sinai Peninsula',\n",
       "       'Saint-Benoit', 'Western Province', 'Maputo Province',\n",
       "       'New Jersey', 'Fife', 'Devon', 'St. Johns Reef',\n",
       "       'Off Green Island', 'North Region', 'Guantanamo Province',\n",
       "       'Split-Dalmatia Count,', 'Northern Territory', 'US Virgin Islands',\n",
       "       'Guerro', 'Northern Bahamas', 'Grand Bahama Island', 'Red Sea',\n",
       "       'Territory of Cocos (Keeling) Islands', 'Virginia', 'Kent',\n",
       "       'South Province', 'Guam', 'Vitu Levu', \"Vava'u\", 'Simpson Bay',\n",
       "       'East Wall', 'Malampa Province', 'New Mexico', 'Camaguey Province',\n",
       "       'Conservatória District', 'Saint-Benoît',\n",
       "       'South Island, near Karitane north of Dunedin', 'Anzoategui',\n",
       "       'Nueva Esparta', 'Southland', 'Caicos Bank', 'Maryland',\n",
       "       'KwaZulu-Natal between Port Edward and Port St Johns', 'Taveuni',\n",
       "       'Miyako Island', 'Saint-Pierre', 'Rio de Janeiro', 'Ralik Chain',\n",
       "       \"L' Etang Salé-les-Bains\", 'Berry Islands', 'Gaza',\n",
       "       'Chatham Islands', 'Saint-Paul', 'Vava’u', 'New Territories',\n",
       "       'Aichi Prefecture', 'Saint-Denis', 'Costa Blanca', 'Walkers Cay',\n",
       "       'Ehime Prefecture', 'Ligurian Sea', \"L'Etang-Salé\", 'Port Shelter',\n",
       "       'Tyrrhenian Sea', 'Sicily', 'Chungnam', \"Grand'Anse\",\n",
       "       'Baja California', 'Istria County', 'Eastern Caroline Islands',\n",
       "       'Magdalena Department', 'Out Islands', 'New Ireland Province',\n",
       "       'Duke of York Islands', 'Western Caroline Islands',\n",
       "       'Bougainville (North Solomons)', 'Northern Taiwan', 'Vita Levu',\n",
       "       'Gulf Province', 'Lau Province', 'Ysabel Island', 'Thessaly',\n",
       "       'Lomaiviti  Island Group', 'Veracruz', 'Grand Turk Island',\n",
       "       'Northern District', 'Madang', '10ºS, 142ºE', 'Kwajalein Atoll',\n",
       "       'Torres Strait', 'Primorje-Gorski Kotar County', 'Adriatic Sea',\n",
       "       'Wake Island (EnenKio)', 'Paget', 'Kadavu', 'Wakayama Prefecture',\n",
       "       'Tutuila Island', 'Cat Cay', 'Between Hawaii & Wake Island',\n",
       "       'Taipei Hsien', 'Milne Bay Province',\n",
       "       'Near Dakar, Cap Vert Peninsula', 'Buenos Aires Province',\n",
       "       'Madang Province', 'La Libertad', 'Jakarta Harbour', 'Attica',\n",
       "       'Basrah', 'Gulf of Panama', 'Cay Sal Bank', 'Andros Islands',\n",
       "       'Basrah City', 'Golfo di Genova in the Ligurian Sea',\n",
       "       'Westmoreland Parish', 'Hoogly River'], dtype=object)"
      ]
     },
     "execution_count": 16,
     "metadata": {},
     "output_type": "execute_result"
    }
   ],
   "source": [
    "# strip all leading and trailing spaces of Area column\n",
    "df_cleaning.Area = df_cleaning.Area.str.strip()\n",
    "df_cleaning.Area.unique()"
   ]
  },
  {
   "cell_type": "code",
   "execution_count": 17,
   "metadata": {},
   "outputs": [
    {
     "data": {
      "text/plain": [
       "array(['California', 'Pernambuco', 'Florida', 'Queensland', 'Cornwall',\n",
       "       'Cocos Island', 'Western Australia', 'Alifu Alifu Atoll',\n",
       "       'Western Cape Province', 'Eastern Cape Province', 'Hawaii',\n",
       "       'Victoria', 'New South Wales', 'Fernando de Noronha',\n",
       "       'Holquin Province', 'South Australia', 'Massachusetts',\n",
       "       'South Carolina', 'New Providence', 'Bali', 'Alicante Province',\n",
       "       'Texas', 'North Carolina', 'Suez', 'North Island', 'Tuamotos',\n",
       "       'Grand Terre', 'Galapagos Islands', 'Phuket', 'Tasmania',\n",
       "       'Le Port', 'Rangiroa', 'Saint-Gilles-les-Bains', 'Bora Bora',\n",
       "       'd’Étang-Salé', 'Abaco Islands', 'Alabama', 'Louisiana',\n",
       "       'Delaware', 'Society Islands', 'South Island', 'North Province',\n",
       "       'Oregon', 'Exuma Islands', 'Santa Cruz Island', 'Saint-Gilles',\n",
       "       'Quintana Roo', 'Tuamotus', 'St. Catherine', 'Sinaloa', 'Sardinia',\n",
       "       'Guerrero', 'Central Province',\n",
       "       'Telyakovsky Bay, Khasan,  Primorsky Krai (Far East)', 'Praslin',\n",
       "       'KwaZulu-Natal', 'Loyalty Islands', 'West End',\n",
       "       'South Sinai Peninsula', 'Maine', 'Grand Canary Island',\n",
       "       'New York', 'Binh Dinh Province', 'Sinai Peninsula',\n",
       "       'Saint-Benoit', 'Western Province', 'Maputo Province',\n",
       "       'New Jersey', 'Fife', 'Devon', 'St. Johns Reef',\n",
       "       'Off Green Island', 'North Region', 'Guantanamo Province',\n",
       "       'Split-Dalmatia Count,', 'Northern Territory', 'US Virgin Islands',\n",
       "       'Guerro', 'Northern Bahamas', 'Grand Bahama Island', 'Red Sea',\n",
       "       'Territory of Cocos (Keeling) Islands', 'Virginia', 'Kent',\n",
       "       'South Province', 'Guam', 'Vitu Levu', \"Vava'u\", 'Simpson Bay',\n",
       "       'East Wall', 'Malampa Province', 'New Mexico', 'Camaguey Province',\n",
       "       'Conservatória District', 'Saint-Benoît',\n",
       "       'South Island, near Karitane north of Dunedin', 'Anzoategui',\n",
       "       'Nueva Esparta', 'Southland', 'Caicos Bank', 'Maryland',\n",
       "       'KwaZulu-Natal between Port Edward and Port St Johns', 'Taveuni',\n",
       "       'Miyako Island', 'Saint-Pierre', 'Rio de Janeiro', 'Ralik Chain',\n",
       "       \"L' Etang Salé-les-Bains\", 'Berry Islands', 'Gaza',\n",
       "       'Chatham Islands', 'Saint-Paul', 'Vava’u', 'New Territories',\n",
       "       'Aichi Prefecture', 'Saint-Denis', 'Costa Blanca', 'Walkers Cay',\n",
       "       'Ehime Prefecture', 'Ligurian Sea', \"L'Etang-Salé\", 'Port Shelter',\n",
       "       'Tyrrhenian Sea', 'Sicily', 'Chungnam', \"Grand'Anse\",\n",
       "       'Baja California', 'Istria County', 'Eastern Caroline Islands',\n",
       "       'Magdalena Department', 'Out Islands', 'New Ireland Province',\n",
       "       'Duke of York Islands', 'Western Caroline Islands',\n",
       "       'Bougainville (North Solomons)', 'Northern Taiwan', 'Vita Levu',\n",
       "       'Gulf Province', 'Lau Province', 'Ysabel Island', 'Thessaly',\n",
       "       'Lomaiviti  Island Group', 'Veracruz', 'Grand Turk Island',\n",
       "       'Northern District', 'Madang', '10ºS, 142ºE', 'Kwajalein Atoll',\n",
       "       'Torres Strait', 'Primorje-Gorski Kotar County', 'Adriatic Sea',\n",
       "       'Wake Island (EnenKio)', 'Paget', 'Kadavu', 'Wakayama Prefecture',\n",
       "       'Tutuila Island', 'Cat Cay', 'Between Hawaii & Wake Island',\n",
       "       'Taipei Hsien', 'Milne Bay Province',\n",
       "       'Near Dakar, Cap Vert Peninsula', 'Buenos Aires Province',\n",
       "       'Madang Province', 'La Libertad', 'Jakarta Harbour', 'Attica',\n",
       "       'Basrah', 'Gulf of Panama', 'Cay Sal Bank', 'Andros Islands',\n",
       "       'Basrah City', 'Golfo di Genova in the Ligurian Sea',\n",
       "       'Westmoreland Parish', 'Hoogly River'], dtype=object)"
      ]
     },
     "execution_count": 17,
     "metadata": {},
     "output_type": "execute_result"
    }
   ],
   "source": [
    "df_cleaning = df_cleaning[df_cleaning[\"Area\"] != '0ºS, 142ºE']\n",
    "df_cleaning = df_cleaning[df_cleaning[\"Area\"] != 'Vava\\x92u']\n",
    "df_cleaning.Area.unique()"
   ]
  },
  {
   "cell_type": "code",
   "execution_count": 18,
   "metadata": {},
   "outputs": [
    {
     "data": {
      "text/plain": [
       "array(['Oceanside, San Diego County', 'Piedade Beach, Recife',\n",
       "       'Cocoa Beach, Brevard  County', ..., 'Lake Macquarie',\n",
       "       'Petrie Bight, Brisbane River', 'Ghat'], dtype=object)"
      ]
     },
     "execution_count": 18,
     "metadata": {},
     "output_type": "execute_result"
    }
   ],
   "source": [
    "# strip all leading and trailing spaces of Location column\n",
    "df_cleaning.Location = df_cleaning.Location.str.strip()\n",
    "df_cleaning.Location.unique()"
   ]
  },
  {
   "cell_type": "code",
   "execution_count": 19,
   "metadata": {},
   "outputs": [
    {
     "data": {
      "text/plain": [
       "array(['N', 'Y', 'M', '2017'], dtype=object)"
      ]
     },
     "execution_count": 19,
     "metadata": {},
     "output_type": "execute_result"
    }
   ],
   "source": [
    "# strip all leading and trailing spaces of Fatal column\n",
    "df_cleaning[\"Fatal (Y/N)\"] = df_cleaning[\"Fatal (Y/N)\"].str.strip()\n",
    "df_cleaning[\"Fatal (Y/N)\"].unique()"
   ]
  },
  {
   "cell_type": "code",
   "execution_count": 20,
   "metadata": {
    "scrolled": true
   },
   "outputs": [
    {
     "data": {
      "text/plain": [
       "array(['N', 'Y'], dtype=object)"
      ]
     },
     "execution_count": 20,
     "metadata": {},
     "output_type": "execute_result"
    }
   ],
   "source": [
    "# Drop rows with Fatal column values of 'M' and '2017'\n",
    "df_cleaning = df_cleaning[df_cleaning[\"Fatal (Y/N)\"] != 'M']\n",
    "df_cleaning = df_cleaning[df_cleaning[\"Fatal (Y/N)\"] != '2017']\n",
    "df_cleaning[\"Fatal (Y/N)\"].unique()"
   ]
  },
  {
   "cell_type": "code",
   "execution_count": 21,
   "metadata": {},
   "outputs": [
    {
     "data": {
      "text/html": [
       "<div>\n",
       "<style scoped>\n",
       "    .dataframe tbody tr th:only-of-type {\n",
       "        vertical-align: middle;\n",
       "    }\n",
       "\n",
       "    .dataframe tbody tr th {\n",
       "        vertical-align: top;\n",
       "    }\n",
       "\n",
       "    .dataframe thead th {\n",
       "        text-align: right;\n",
       "    }\n",
       "</style>\n",
       "<table border=\"1\" class=\"dataframe\">\n",
       "  <thead>\n",
       "    <tr style=\"text-align: right;\">\n",
       "      <th></th>\n",
       "      <th>Year</th>\n",
       "    </tr>\n",
       "  </thead>\n",
       "  <tbody>\n",
       "    <tr>\n",
       "      <th>count</th>\n",
       "      <td>1417.000000</td>\n",
       "    </tr>\n",
       "    <tr>\n",
       "      <th>mean</th>\n",
       "      <td>1991.605505</td>\n",
       "    </tr>\n",
       "    <tr>\n",
       "      <th>std</th>\n",
       "      <td>23.553558</td>\n",
       "    </tr>\n",
       "    <tr>\n",
       "      <th>min</th>\n",
       "      <td>1868.000000</td>\n",
       "    </tr>\n",
       "    <tr>\n",
       "      <th>25%</th>\n",
       "      <td>1979.000000</td>\n",
       "    </tr>\n",
       "    <tr>\n",
       "      <th>50%</th>\n",
       "      <td>2000.000000</td>\n",
       "    </tr>\n",
       "    <tr>\n",
       "      <th>75%</th>\n",
       "      <td>2009.000000</td>\n",
       "    </tr>\n",
       "    <tr>\n",
       "      <th>max</th>\n",
       "      <td>2018.000000</td>\n",
       "    </tr>\n",
       "  </tbody>\n",
       "</table>\n",
       "</div>"
      ],
      "text/plain": [
       "              Year\n",
       "count  1417.000000\n",
       "mean   1991.605505\n",
       "std      23.553558\n",
       "min    1868.000000\n",
       "25%    1979.000000\n",
       "50%    2000.000000\n",
       "75%    2009.000000\n",
       "max    2018.000000"
      ]
     },
     "execution_count": 21,
     "metadata": {},
     "output_type": "execute_result"
    }
   ],
   "source": [
    "df_cleaning.describe()"
   ]
  },
  {
   "cell_type": "code",
   "execution_count": 22,
   "metadata": {},
   "outputs": [
    {
     "data": {
      "text/plain": [
       "array([ True])"
      ]
     },
     "execution_count": 22,
     "metadata": {},
     "output_type": "execute_result"
    }
   ],
   "source": [
    "# Drop rows in Age column that are not numeric\n",
    "df_cleaning = df_cleaning[df_cleaning.Age.apply(lambda x: x.isnumeric())]\n",
    "df_cleaning.Age.str.isnumeric().unique()"
   ]
  },
  {
   "cell_type": "code",
   "execution_count": 23,
   "metadata": {},
   "outputs": [
    {
     "data": {
      "text/plain": [
       "array(['57', '18', '15', '32', '21', '30', '60', '33', '19', '25', '10',\n",
       "       '69', '55', '35', '20', '54', '22', '31', '40', '37', '13', '34',\n",
       "       '50', '46', '48', '17', '28', '65', '73', '58', '36', '51', '61',\n",
       "       '59', '42', '6', '23', '29', '39', '24', '12', '26', '11', '71',\n",
       "       '43', '44', '14', '27', '62', '52', '38', '68', '16', '47', '63',\n",
       "       '70', '9', '41', '53', '7', '66', '45', '74', '64', '8', '56',\n",
       "       '49', '77', '84', '6½', '5'], dtype=object)"
      ]
     },
     "execution_count": 23,
     "metadata": {},
     "output_type": "execute_result"
    }
   ],
   "source": [
    "df_cleaning.Age.unique()"
   ]
  },
  {
   "cell_type": "code",
   "execution_count": 24,
   "metadata": {},
   "outputs": [
    {
     "data": {
      "text/plain": [
       "array(['57', '18', '15', '32', '21', '30', '60', '33', '19', '25', '10',\n",
       "       '69', '55', '35', '20', '54', '22', '31', '40', '37', '13', '34',\n",
       "       '50', '46', '48', '17', '28', '65', '73', '58', '36', '51', '61',\n",
       "       '59', '42', '6', '23', '29', '39', '24', '12', '26', '11', '71',\n",
       "       '43', '44', '14', '27', '62', '52', '38', '68', '16', '47', '63',\n",
       "       '70', '9', '41', '53', '7', '66', '45', '74', '64', '8', '56',\n",
       "       '49', '77', '84', '5'], dtype=object)"
      ]
     },
     "execution_count": 24,
     "metadata": {},
     "output_type": "execute_result"
    }
   ],
   "source": [
    "df_cleaning = df_cleaning[df_cleaning[\"Age\"] != '6½']\n",
    "df_cleaning.Age.unique()"
   ]
  },
  {
   "cell_type": "code",
   "execution_count": 25,
   "metadata": {
    "scrolled": true
   },
   "outputs": [
    {
     "data": {
      "text/html": [
       "<div>\n",
       "<style scoped>\n",
       "    .dataframe tbody tr th:only-of-type {\n",
       "        vertical-align: middle;\n",
       "    }\n",
       "\n",
       "    .dataframe tbody tr th {\n",
       "        vertical-align: top;\n",
       "    }\n",
       "\n",
       "    .dataframe thead th {\n",
       "        text-align: right;\n",
       "    }\n",
       "</style>\n",
       "<table border=\"1\" class=\"dataframe\">\n",
       "  <thead>\n",
       "    <tr style=\"text-align: right;\">\n",
       "      <th></th>\n",
       "      <th>Year</th>\n",
       "    </tr>\n",
       "  </thead>\n",
       "  <tbody>\n",
       "    <tr>\n",
       "      <th>count</th>\n",
       "      <td>1399.000000</td>\n",
       "    </tr>\n",
       "    <tr>\n",
       "      <th>mean</th>\n",
       "      <td>1991.598999</td>\n",
       "    </tr>\n",
       "    <tr>\n",
       "      <th>std</th>\n",
       "      <td>23.548174</td>\n",
       "    </tr>\n",
       "    <tr>\n",
       "      <th>min</th>\n",
       "      <td>1868.000000</td>\n",
       "    </tr>\n",
       "    <tr>\n",
       "      <th>25%</th>\n",
       "      <td>1979.000000</td>\n",
       "    </tr>\n",
       "    <tr>\n",
       "      <th>50%</th>\n",
       "      <td>2000.000000</td>\n",
       "    </tr>\n",
       "    <tr>\n",
       "      <th>75%</th>\n",
       "      <td>2009.000000</td>\n",
       "    </tr>\n",
       "    <tr>\n",
       "      <th>max</th>\n",
       "      <td>2018.000000</td>\n",
       "    </tr>\n",
       "  </tbody>\n",
       "</table>\n",
       "</div>"
      ],
      "text/plain": [
       "              Year\n",
       "count  1399.000000\n",
       "mean   1991.598999\n",
       "std      23.548174\n",
       "min    1868.000000\n",
       "25%    1979.000000\n",
       "50%    2000.000000\n",
       "75%    2009.000000\n",
       "max    2018.000000"
      ]
     },
     "execution_count": 25,
     "metadata": {},
     "output_type": "execute_result"
    }
   ],
   "source": [
    "df_cleaning.describe()"
   ]
  },
  {
   "cell_type": "code",
   "execution_count": 26,
   "metadata": {},
   "outputs": [
    {
     "data": {
      "text/plain": [
       "array(['No injury to occupant, outrigger canoe and paddle damaged',\n",
       "       'FATAL', 'Lower left leg bitten',\n",
       "       'Minor bite to hand by captive shark. PROVOKED INCIDENT',\n",
       "       'Injured by teeth of a dead porbeagle shark he was tossing overboard.',\n",
       "       'No injury, shark bit scuba gear',\n",
       "       'No injury, knocked off board by shark', '5-inch cut to hand',\n",
       "       'No injury, shark bit hole in ski',\n",
       "       'Lacerations to left knee & lower leg',\n",
       "       'Injuries to right leg & hand', 'Minor injuries to legs',\n",
       "       'No injury, said to have been charged by sharks several times',\n",
       "       'Minor injury, ankle grazed', 'Laceratons to right leg & foot',\n",
       "       'Puncture wounds to leff foot & lower leg',\n",
       "       'Minor injury to left forearm',\n",
       "       'Severe lacerations to left thigh & knee', 'Right leg bitten',\n",
       "       'Puncture wounds to left shoulder', 'Minor injury to foot',\n",
       "       'Minor injuries', 'Lacerations to left hand', 'Abrasions',\n",
       "       'Lacerations to left foot', 'Minor lacerations to right hip',\n",
       "       'No injury, board bitten', 'Not injured by shark but board bitten',\n",
       "       'Minor cuts to sole & toes of left foot',\n",
       "       'Foot bitten by landed shark PROVOKED INCIDENT',\n",
       "       'No injury, kayak bitten', 'No injury, shark bit paddleboard',\n",
       "       'Lower legs bitten', 'No injury, shark bit surfboard',\n",
       "       'Right forearm severed', 'Lower right leg severely injured',\n",
       "       'Lacerations to thighs',\n",
       "       'Multiple injuries to arm, wrist and torso',\n",
       "       'Injury to right wrist & forearm',\n",
       "       'No injury, but ski severely damaged',\n",
       "       'Lacerations to both hands while attempting to land a hooked shark PROVOKED INCIDENT',\n",
       "       'Injuries to foot & arm',\n",
       "       'Laceration to right hand by hooked & gaffed shark. PROVOKED INCIDENT',\n",
       "       'Injuries to right calf and thigh', 'Left arm and leg injured',\n",
       "       '4 deep lacerations to thigh',\n",
       "       'Severe lacerations to shoulder & forearm',\n",
       "       'Lacerations to right foot', 'No inury, shark & board collided',\n",
       "       'Lacerations to right hand',\n",
       "       'Laceration to left calf from hooked shark PROVOKED INCIDENT',\n",
       "       'No injury, board damaged',\n",
       "       \"Fin of hooked shark injured fisherman's forearm. . PROVOKED INCIDENT\",\n",
       "       'Right thigh injured by hooked pregnant female shark PROVOKED INCIDENT',\n",
       "       'Lacerations and punctures to foot', 'Injury to lower leg',\n",
       "       'Laceration to wrist', 'Leg severely bitten, surgically amputated',\n",
       "       'Injury to posterior right leg',\n",
       "       'Lacerations and puncture wounds to foot and ankle',\n",
       "       'Ankle bitten', 'Arm grabbed PROVOKED INCIDENT', 'Elbow bitten',\n",
       "       'Minor puncture wound to foot',\n",
       "       'Severe lacerations to right forearm, hand and calf from speared shark PROVOKED INCIDENT',\n",
       "       'No injury', 'Laceration to right calf',\n",
       "       'Lacerations to arms & leg', 'No injury, shark bit board',\n",
       "       'No injury, shark leapt on surfboard', 'Lacerations to left calf',\n",
       "       'Injury to left thigh', 'Injury to right ankle/calf & hand',\n",
       "       'Lacerations to right calf, knee & hip', 'Left foot bitten',\n",
       "       'Severe injuries to lower legs. Foot later surgically amputated.',\n",
       "       'Left leg severed below the knee, defense injuries to left hand',\n",
       "       'Foot & hands bitten', 'Severe lacerations to left hand',\n",
       "       'Laceration to heel, puncture wounds to dorsum of foot',\n",
       "       'Minor injury to left ankle', 'Severe laceration to left leg',\n",
       "       'Significant injuries to leg', 'Minor laceration to hand',\n",
       "       'No injury, shark struck board, tossing her into the sea',\n",
       "       'Laceration to dorsum of foot by hooked shark  PROVOKED INCIDENT',\n",
       "       'Inuries to lower left leg & ankle', 'Left foot & ankle bitten',\n",
       "       'No injury, surfboard bitten',\n",
       "       \"No injury, shark struk sufer's leg and his board\",\n",
       "       'Injuries to left calf, arm and hand', 'Lacerations to right leg',\n",
       "       'Right hand bitten  PROVOKED INCIDENT',\n",
       "       'Lacerations and puncture wounds to hip, thigh, arm and hand',\n",
       "       'Minor injury to sole of foot',\n",
       "       'No injury, shark bumped & damaged board',\n",
       "       'Significant injuries to lower legs',\n",
       "       'Injuries to torso, hip, lower leg & hands',\n",
       "       'Shallow lacerations & puncture to lateral left leg',\n",
       "       'Injuries to right calf, buttock and both hands',\n",
       "       'Right leg severed, multiple lacerations to left leg',\n",
       "       'Multiple lacerations to torso & leg', 'Puncture wounds to foot',\n",
       "       'Bruises and abrasions to face, chin, chest, both shins & feet and cut to right hand when her surfboard was struck with force',\n",
       "       'Arm amputated below shoulder',\n",
       "       'Left arm amputated at elbow & severe injury to leg',\n",
       "       'Minor lacerations to foot', 'Lacerations to right calf',\n",
       "       'Left forearm bitten', 'Lacerations to right forearm',\n",
       "       '2 puncture wounds to  dorsum of left foot',\n",
       "       'Injuries to leg, left arm & both hands',\n",
       "       'Leg severed at mid-thigh', 'No injury, knocked off ski',\n",
       "       'Injuries to head & torso',\n",
       "       'Lacerations to left forearm. Lacerations to left hand and thigh',\n",
       "       'Hand bitten', 'Laceration & puncture wounds to right flank & hip',\n",
       "       \"No injury, shark's teeth scratched hull\",\n",
       "       'Lacerations to calf by hooked shark PROVOKED INCIDENT',\n",
       "       'Severe bite to right flank',\n",
       "       'Lacerations to lower left leg, puncture wounds to sole of left foot',\n",
       "       'Injury to hip/leg', 'Laceration to left hand',\n",
       "       'Laceration to left upper leg', 'Lacerations to fingers',\n",
       "       'Lacerations to left calf & ankle, puncture wounds to left foot',\n",
       "       'Foot bitten', 'Lacerations to knee',\n",
       "       'Left arm & right hand severed, lacerations to both legs',\n",
       "       'Leg bitten',\n",
       "       'Bitten twice on the leg by a shark he was attempting to free from his line PROVOKED INCIDENT',\n",
       "       'Injury to left calf',\n",
       "       'Minor lacerations to left heel and big toe',\n",
       "       'Lacerations to right leg & foot', 'Lower limbs & thigh bitten',\n",
       "       'Right hand bitten',\n",
       "       'Abrasion to right hand, lacerations to left forearm',\n",
       "       'Minor injury to torso', 'Laceration to right lower leg',\n",
       "       'No injury, but surfboard severely damaged',\n",
       "       'Laceration to right hand and cuts on fingertips',\n",
       "       'Lacerations to lower leg', 'Lacerations to leg',\n",
       "       'Injuries to left thigh', 'Lacerations to right hand & knee',\n",
       "       'Right foot bitten', 'Puncture wounds to hand, laceration to leg',\n",
       "       'Severe bite to right calf & anklel', 'Lacerations to right arm',\n",
       "       'Right leg severed', 'Injuries to right foot',\n",
       "       '3\" laceration to left hip', 'Bitten on left calf & foot',\n",
       "       'Injuries to torso, head and face', 'Laceration to thigh',\n",
       "       'Lacerations to  right forearm', 'Heel bitten',\n",
       "       'Foot bitten when he accidentally jumped onto the shark PROVOKED INCIDENT',\n",
       "       'Minor injury, shin bitten',\n",
       "       'No injury, shark became entangled in his surfboard leash',\n",
       "       'Minor injury to foot & shin', 'Lower leg bitten',\n",
       "       'Bitten on left hand',\n",
       "       'Bitten on lower right leg, reported as a minor injury',\n",
       "       'Right thigh & calf bitten', 'Puncture marks to hand',\n",
       "       'Superficial injury to left calf',\n",
       "       'Lacerations to left foot and ankle',\n",
       "       'Avulsion injury  to lower right leg',\n",
       "       'Puncture wounds and lacerations to both legs',\n",
       "       'Minor lacerations to right hand',\n",
       "       'Underside of board, fins and, harness were damaged, and left  hip, thigh and buttock sustained puncture wounds',\n",
       "       'Right thigh bitten',\n",
       "       'Lacerations to left calf and heel from hooked shark PROVOKED INCIDENT',\n",
       "       'Lacerations to right arm & thigh',\n",
       "       'No injury, chunk missing from surfboard',\n",
       "       'Lacerations to thigh and hand', 'Minor puncture wounds to knee',\n",
       "       'Lacerations to thigh & lower left leg',\n",
       "       'Minor lacerations to left foot & heel',\n",
       "       'Right lower leg and foot bitten', 'Multiple lacerations to torso',\n",
       "       'Puncture wounds to thigh, defense wounds  to hand',\n",
       "       'No injury, but swim fin bitten & torn',\n",
       "       'Lacerations to left forearm', 'Puncture wounds to calf and hand',\n",
       "       'Puncture wound to left ankle',\n",
       "       'Lacerations to little finger of left hand',\n",
       "       'Lacerations to torso & arm',\n",
       "       'Lacerations to both legs below the knees',\n",
       "       'Lacerattions to left thigh & knee', 'Thigh bitten',\n",
       "       'Laceration to left calf', 'No injury, ski severely damaged',\n",
       "       'Superficial injury to calf by hooked shark PROVOKED ACCIDENT',\n",
       "       'Foot & hand bitten', 'Laceration to right foot',\n",
       "       'No injury, ski bitten', 'Left hand severed',\n",
       "       'Lacerations to foot',\n",
       "       'No injury, kayaker fell in the water when kayak bitten by a shark',\n",
       "       'Lacerations to hand', 'Bitten on ankle', 'Bitten on calf',\n",
       "       'Superficial lacerations to right side of face PROVOKED ACCIDENT',\n",
       "       'Lacerations to thigh', 'Right forearm and wrist injured',\n",
       "       'No injury, punctures to swim fin', '5 puncture wounds to thigh',\n",
       "       'Puncture marks to foot', 'Small bruise to calf',\n",
       "       'Right leg severed, left leg lacerated',\n",
       "       'Laceration to left thigh', 'Lacerations to arm',\n",
       "       'Lacerations to ankle & foot', 'Hands severed',\n",
       "       'Upper left arm & right leg bitten',\n",
       "       'Severe lacerations to hands and  left leg',\n",
       "       'Puncture wound to calf', 'Thigh bitten, FATAL',\n",
       "       'Minor puncture wounds', 'Puncture to left hand',\n",
       "       'Severe injury to left forearm',\n",
       "       'Severe injuries to head, neck, shoulder & upper left arm',\n",
       "       'Lacerations to right hand by hooked shark PROVOKED INCIDENT',\n",
       "       'Leg, forearm & hand severely bitten', 'Arm bitten',\n",
       "       'Lacerations to his lower left leg, calf, foot & ankle',\n",
       "       'Both arms severely bitten',\n",
       "       'Foot severed, Right forearm severed, lacerations to left hand (defense wounds)',\n",
       "       'Foot and arm bitten', 'Torso and left buttock bitten',\n",
       "       'No injury to diver, shark bit his video camera',\n",
       "       'No injury, surfboard rammed',\n",
       "       'Lacerations and puncture wounds to leg and foot',\n",
       "       'Lacerations to forearm', 'Minor lacerations to left calf',\n",
       "       'Lacerations to left foot when he stepped on the shark PROVOKED INCIDENT',\n",
       "       'Laceration to right bicep by hooked shark PROVOKED INCIDENT',\n",
       "       'Laceration to left foot', 'No injury, board bumped by shark',\n",
       "       'Lacerations to left calf and foot',\n",
       "       'Laceration to left calf by hooked shark PROVOKED INCIDENT',\n",
       "       'Minor laceration to leg', 'Severe lacerations to left foot',\n",
       "       'Minor puncture wounds to right ankle',\n",
       "       'Arm bitten PROVOKED INCIDENT', 'Both feet bitten',\n",
       "       'Lacerations to left ankle and foot',\n",
       "       'Lacerations to legs & buttocks',\n",
       "       'Minor injury, lacerations to left lower leg',\n",
       "       'No injury, shark & board collided',\n",
       "       'Stepped on shark PROVOKED INCIDENT',\n",
       "       'Multiple lacerations to right torso & arm. Defense wounds on  hands',\n",
       "       'Lacerations to hand & forearm',\n",
       "       'Lacerations & puncture wounds to right calf & ankle when diver accidentally backed into the shark  PROVOKED INCIDENT',\n",
       "       'Puncture wounds and minor lacerations to dorsal surface of his left hand',\n",
       "       'No injury, shark bit kayak',\n",
       "       'Bitten on upper right thigh & right ankle',\n",
       "       '15-20 puncture wounds to arm by captive shark  PROVOKED INCIDENT',\n",
       "       \"Injury to forearm from shark's spine PROVOKED INCIDENT\",\n",
       "       'Puncture wounds to left foot & calf', 'Right ankle & foot bitten',\n",
       "       'Thigh injured by hooked shark PROVOKED INCIDENT',\n",
       "       '2-inch laceration to upper left arm',\n",
       "       'Lacerations to knee & left lower leg by electrocuted captive shark PROVOKED INCIDENT',\n",
       "       'Lacerations to left leg & foot',\n",
       "       'Speared shark bit his forearm PROVOKED INCIDENT',\n",
       "       'Laceration to forearm',\n",
       "       'No injury, catapulted into the water & ski damage',\n",
       "       'Laceration to right foot, puncture wounds to calf',\n",
       "       'Minor bite to ankle', 'Minor injury, bite chest and left calf',\n",
       "       'Lacerations to arm and 2 fingers by hooked shark PROVOKED INCIDENT',\n",
       "       'Severe injury to hand',\n",
       "       'Severe injuries to right hand & right thigh. Right hand  surgically amputated & his right leg a week later',\n",
       "       'No injury, surfboard dented',\n",
       "       'Severe lacerations to lower left leg',\n",
       "       'Puncture wounds to right calf', 'Severe lacerations to right leg',\n",
       "       'Left thigh severely bitten', 'Posterior thigh bitten',\n",
       "       'No injury, shark struck kayak, catapulting him into the water',\n",
       "       'Lacerations to knees, thigh and hip by hooked shark PROVOKED iNCIDENT',\n",
       "       'Small laceration to head from captive shark', 'Calf bitten',\n",
       "       'Right hand lacerated by netted shark PROVOKED INCIDENT',\n",
       "       'Bitten on right thigh & calf',\n",
       "       'Shark became tangled in his surfboard leash. The surfer was not injured',\n",
       "       'Shark bumped right ankle', 'Lacerations to lower left leg',\n",
       "       'No injury, surfboard leash severed',\n",
       "       'Lacerations to dorsum of right foot',\n",
       "       'No injury. Shark bumped kayak, flinging her into the  water.',\n",
       "       'Hand severed, buttocks bitten',\n",
       "       'Lacerations to right forearm and hand',\n",
       "       'Severe lacerations to left leg',\n",
       "       'FATAL    Severe bite to right thigh',\n",
       "       '3-inch laceration to dorsal surface of left foot',\n",
       "       'Puncture wounds to right foot',\n",
       "       'Three small lacerations/ punctures to right foot', 'Minor injury',\n",
       "       'No injury to surfer, surfboard bitten by the shark',\n",
       "       'Leg bitten, FATAL', 'Laceration to left knee PROVOKED INCIDENT',\n",
       "       'Severe lacerations to right buttock', 'Lacerations to feet',\n",
       "       'Cut to right knee', 'Lacerations to left lower leg',\n",
       "       'small laceration to wrist', 'Laceration to calf',\n",
       "       '4 scratches on left hand', 'Severe lacerations to right hand',\n",
       "       'Small lacerations to bottom of right big toe',\n",
       "       'Minor injury, shark latched onto his abdomen',\n",
       "       'Tiny punctures to arm', '3\" laceration to left forearm',\n",
       "       'Laceration to right heel', 'Lacerations to thigh & torso',\n",
       "       'Left hand  bitten', '6 lacerations to left hand',\n",
       "       'Puncture wounds to torso',\n",
       "       'Minor injury, small lacerations to right foot',\n",
       "       'Left calf severely bitten', 'Right calf bitten',\n",
       "       'Lacerations to right thigh & left foot',\n",
       "       'Lacerations to thumb, ring and pinky fingers of right hand',\n",
       "       '6 to 8 puncture wounds to right hand',\n",
       "       'Left shin bitten by captive shark PROVOKED INCIDENT',\n",
       "       'Bitten on the nose by a hooked shark PROVOKED INCIDENT',\n",
       "       'Left heel & calf bitten', \"No injury, shark's fin caught his leg\",\n",
       "       'Knee bitten', 'Circular bite on left thigh',\n",
       "       'Lower leg & foot injured',\n",
       "       'Lacerations to left index finger & thumb',\n",
       "       'Lacerations to right ankle',\n",
       "       'Punctures & lacerations to right calf & calf',\n",
       "       'Lacerations to 3 fingers of left hand',\n",
       "       'Bruises to arm and hand, laceration to lower leg & minor injuries to foot',\n",
       "       'Head & torso bitten', 'Presumed FATAL, body not recovered',\n",
       "       'No injury, shark removed piece of surfboard', 'Left leg bitten',\n",
       "       'Minor injuries, surfboard bitten',\n",
       "       'Hand, thigh & calf bitten by hooked shark PROVOKED INCIDENT',\n",
       "       'Laceration to left thigh & left hand',\n",
       "       'Minor injury to left hand',\n",
       "       'Puncture wounds and cuts to right thigh', 'Foot severed',\n",
       "       'No injury, surf ski bitten', 'Minor lacerations to right foot',\n",
       "       'Left ankle & foot bitten', '2-inch puncture wounds on right foot',\n",
       "       'Four 1-inch puncture wounds on left foot',\n",
       "       'Lacerations & puncture wounds to left foot & buttocks',\n",
       "       'No injury, knocked off surfboard',\n",
       "       '4\" laceration to left forearm',\n",
       "       'Knee bitten after diver poked shark PROVOKED INCIDENT',\n",
       "       'Abrasion & 6 puncture wounds on chest after grabbing the shark by its tail PROVOKED INCIDENT',\n",
       "       '3 to 4 cm laceration on foot from hooked shark brought on board PROVOKED INCIDENT',\n",
       "       'Minor laceration to left foot', '5 puncture wounds in left calf',\n",
       "       'No injury, shark nudged surfboard',\n",
       "       'Deep laceration to right calf', '2 bite marks on right calf',\n",
       "       'Severe bite to right leg FATAL',\n",
       "       'No injury to occupant; shark bumped the kayak repeatedly for 15 minutes',\n",
       "       'Lacerations to left elbow',\n",
       "       '3 puncture wounds in right wrist & hand',\n",
       "       'Lacerations to ankle & calf', 'Left hand bitten',\n",
       "       'Right forearm & elbow bitten', 'Right thumb & palm lacerated',\n",
       "       '2 lacerations on leg, each 4\" to 5\" long',\n",
       "       'Lacerations to hands & right leg when he tried to pull shark from the water PROVOKED INCIDENT',\n",
       "       'No injury, board bumped', 'Lower right leg lacerated',\n",
       "       'No injury, shark bit ski', 'Lacerations to legs',\n",
       "       'Injuries to fingers, calf  & heel', 'Calf severely lacerated',\n",
       "       'Bitten underneath left arm',\n",
       "       'Laceration on right wrist & crescent of puncture wounds on  forearm',\n",
       "       'Lacerations of left forearm', 'FATAL, leg bitten',\n",
       "       'Left buttock  & legs lacerated',\n",
       "       'Laceration on left thigh PROVOKED INCIDENT',\n",
       "       'Lacerations to right calf, puncture wounds on right foot',\n",
       "       '2 punctures on forearm as captive shark collided with diver PROVOKED INCIDENT',\n",
       "       'No injury, kayak bumped repeatedly', '3 lacerations on foot',\n",
       "       'Right ankle & foot lacerated', 'Right foot lacerated',\n",
       "       'Left shoulder bitten', 'Puncture wounds on right foot',\n",
       "       'Left knee & leg bitten', 'Calf bitten & both hands injured',\n",
       "       'Back, buttocks, left hand & left side of face bitten',\n",
       "       'Right forearm & wrist lacerated',\n",
       "       'Right forearm nearly severed and bites above & below the right knee',\n",
       "       'FATAL, abdomen, pelvis & leg bitten',\n",
       "       'No injury, shark struck his board', 'Ankle & foot lacerated',\n",
       "       'Right wrist  & left arm lacerated', 'FATAL, leg severed',\n",
       "       'Puncture wounds on shin',\n",
       "       'Left hand, foot severed &  left calf & arm bitten',\n",
       "       'Left forearm bitten PROVOKED INCIDENT',\n",
       "       'FATAL Severe wound to right thigh & calf',\n",
       "       'Left leg lacerated, right leg severed above the knee',\n",
       "       '15 puncture wounds on foot',\n",
       "       'Lower left leg bitten, surgically amputated', 'Thigh lacerated',\n",
       "       'Presumed FATAL, severed hand recovered',\n",
       "       'Severe abrasion to left lateral calf', 'Left foot (sole) bitten',\n",
       "       'Left ankle & foot lacerated', 'Left arm severed below shoulder',\n",
       "       'Left thigh abraded, right knee and right index finger injured',\n",
       "       'Left foot: lacerations on heel and sole', 'Left calf avulsion',\n",
       "       'Ankle lacerated',\n",
       "       'FATAL, left thigh, buttocks, back of spine, abdomen & chest bitten',\n",
       "       'FATAL          Hip & upper thigh bitten, femoral artery severed',\n",
       "       'No injury, wetsuit torn & board bitten',\n",
       "       '3 puncture wounds on right lateral ankle PROVOKED INCIDENT',\n",
       "       'Left calf bitten', 'Right foot & toes lacerated',\n",
       "       '2 lacerations to the thigh', 'Right calf & heel bitten',\n",
       "       'Multiple bites to foot after jumping off surfboard onto shark PROVOKED INCIDENT',\n",
       "       'Hand & foot lacerated,  lower left leg severely bitten, necessitating surgical amputation',\n",
       "       'Survived', 'Small lacerations to foot',\n",
       "       'Left ankle bitten or right foot', '2 lacerations on left thigh',\n",
       "       'Left calf lacerated', 'Right foot bitten, left leg severed',\n",
       "       'Left hand and wrist bitten',\n",
       "       'Arm lacerated (shark made 3 strikes)',\n",
       "       'Puncture wounds on heel, legs and buttocks', 'Forearms lacerated',\n",
       "       'Both legs severely lacerated',\n",
       "       'Right shoulder forarm & wrist bitten',\n",
       "       'Right upper am, shoulder & back severely  bitten',\n",
       "       '1.5-inch laceration', 'FATAL, body not recovered',\n",
       "       'Abrasions on right hand & deep laceration on middle finger',\n",
       "       'Heel & back of right knee lacerated',\n",
       "       'Left hand lacerated and abraded', 'Right hand severely lacerated',\n",
       "       'Left thigh bitten, leg surgically amputated',\n",
       "       'Bitten above & below right knee',\n",
       "       '2 small puncture wounds on left foot PROVOKED INCIDENT',\n",
       "       'Left foot lacerated', 'Big toe bitten',\n",
       "       'Lacerations on heel & dorsum of right foot', 'Leg lacerated',\n",
       "       'Drowned when caught in line and pulled overboard by hooked shark PROVOKED INCIDENT',\n",
       "       'Right hand severed', 'Calf, foot & hand bitten',\n",
       "       'Right hand lacerated', '6-inch gash on right foot',\n",
       "       'Upper arm bitten', 'Lacerated leg & back', 'Lacerated foot',\n",
       "       'Leg bitten by hooked shark PROVOKED INCIDENT',\n",
       "       'FATAL, torso & leg bitten',\n",
       "       'Two half-inch lacerations on right heel and one near small toe',\n",
       "       'Upper left arm bitten', 'Left leg severed below knee',\n",
       "       'Punctures on left foot and foot',\n",
       "       'Several  puncture wounds on lower right leg',\n",
       "       'Stern of kayak bitten/chest bruised', 'Bruises & minor cuts',\n",
       "       'Leg bitten & surgically amputated', 'Foot & calf bitten',\n",
       "       'Lacerations to buttocks & thigh',\n",
       "       'Lacerations to right forearm & shoulder injured', 'Hand injured',\n",
       "       'PROVOKED INCIDENT Several small lacerations on left foot',\n",
       "       'FATAL or drowning & scavenging', 'Left buttock & foot  severed',\n",
       "       'Right calf lacerated', 'FATAL, thigh bitten', 'Torso lacerated',\n",
       "       'Foot lacerated', 'Cuts on right foot', 'Back of left hand gashed',\n",
       "       'Left ankle bitten', 'Arm severed, surgically reattached',\n",
       "       'No injury. Shark made threat display, then diver shot the shark PROVOKED INCIDENT',\n",
       "       '3 puncture wounds on each side of her left  hand',\n",
       "       'Right foot & ankle lacerated',\n",
       "       'Small cuts on big & pinky toes of left foot',\n",
       "       'Foot & ankle lacerated', 'Minor cuts on right heel & foot',\n",
       "       'Thigh, hip & buttock bitten',\n",
       "       'Minor lacerations to dorsum of left foot',\n",
       "       'Left elbow and forearm bitten', 'Leg & feet lacerated',\n",
       "       'FATAL, torso bitten, leg severed', 'Both thighs bitten',\n",
       "       'Right side of back / torso lacerated', 'Fingers lacerated',\n",
       "       'Finger lacerated', 'Swim fin bitten', 'Left arm bitten',\n",
       "       'Punctures & lacerations on right foot',\n",
       "       'Minor lacerations to the dorsum of the right foot',\n",
       "       'Severely bitten on lower leg', 'Calf lacerated',\n",
       "       'Lower right calf lacerated', 'Left calf & hand lacerated',\n",
       "       'Left thigh lacerated', 'Puncture wounds on right hip and arm',\n",
       "       'Right forearm severed surgically amputated above elbow',\n",
       "       'Right knee lacerated', 'No injury to diver, speargun damaged',\n",
       "       'Lateral right thigh bitten. Thought to involve a 1.2 to 1.5 m tubarão da gralha preta -  a blacktip shark, C. limbatus',\n",
       "       'Buttock bitten, hands lacerated', 'Upper right thigh bitten',\n",
       "       'Right arm bitten', 'No injury, but kayak scraped & dented',\n",
       "       '3-inch laceration to right foot', 'Lacerations to left leg',\n",
       "       'Ear lacerated, cuts on scalp, back, arm & shoulder',\n",
       "       'Right ankle & heel  lacerated', 'Right thigh & buttock bitten',\n",
       "       'Lacerations knee to ankle', 'Leg & board bitten',\n",
       "       'Right hand and wrist lacerated', 'Knee lacerated',\n",
       "       'Leg & hands bitten', 'Tissue removed knee to thigh',\n",
       "       'Left hand & forearm bitten, board bitten', 'Heel lacerated',\n",
       "       'FATAL, left forearm severed', 'Toes lacerated',\n",
       "       'Thigh, buttocks & lower back lacerated',\n",
       "       'FATAL, left thigh and lower leg severely injured',\n",
       "       'FATAL, hands & calf bitten', 'Right shoulder & arm bitten',\n",
       "       '4 lacerations on the sole of his right foot',\n",
       "       'Ankle & foot bitten', 'Lower legs bitten, foot severed',\n",
       "       'FATAL, torso & abdomen bitten, forearm severed',\n",
       "       'Lower leg lacerated', '6 puncture wounds to right calf',\n",
       "       'Left arm lacerated when shark grabbed scooter',\n",
       "       'Both legs bitten, right leg severed at mid-calf & defense wounds on right hand',\n",
       "       '5\" gash in foot', '2 small lacerations to bottom of foot',\n",
       "       'Leg & hand bitten', 'Top of left foot bitten',\n",
       "       'Bitten on inner thigh, leg surgically amputated',\n",
       "       'Laceration to left upper arm', '4 lacerations above left ankle',\n",
       "       'Right thigh punctured', 'Left elbow bitten',\n",
       "       'Left leg lacerated, punctures to right leg',\n",
       "       'Presumed fatal, no body recovered, shark mutilated wetsuit & harness recovered',\n",
       "       'Single laceration on ankle & board bitten',\n",
       "       '4\" laceration on left forearm',\n",
       "       'No Injury, shark struck his board',\n",
       "       'Back, arms & wrist severely lacerated',\n",
       "       'Small puncture wounds and lacerations on right leg just below knee',\n",
       "       'No injury  PROVOKED INCIDENT',\n",
       "       'Left shoulder, forearm, hand & abdomen lacerated',\n",
       "       'No injury, towed by shark that grabbed stringer of fish tied to his waist',\n",
       "       'Laceration on left foot', 'Right foot & ankle bitten',\n",
       "       'Left foot & leg bitten', 'Left arm & leg lacerated',\n",
       "       'Left leg & right testicle bitten', 'Ankles injured',\n",
       "       'Lacerations to left foot & right shin', 'Right arm injured',\n",
       "       '4 punctures in left foot', 'Right foot bruised, board bitten',\n",
       "       'FATAL, head, shoulder and arm severed, remains recovered at Munglinup Beach on 9/13/1995',\n",
       "       '4 puncture wounds on right pinky finger',\n",
       "       'Bottom of left foot gashed', 'Upper left thigh avulsed',\n",
       "       'Multiple bites on right leg and knee',\n",
       "       'Forearm, abdomen & upper leg lacerated',\n",
       "       'Puncture wounds & scratches to torso & left leg',\n",
       "       'FATAL, right thigh bitten, femur exposed', 'Left arm lacerated',\n",
       "       'Lacerations to lower leg & foot',\n",
       "       'FATAL, right thigh bitten & femur exposed, shallow lacerations on right calf & left thigh & fingers lacerated',\n",
       "       'FATAL, right leg nearly severed, puncture wounds to left leg',\n",
       "       'Right thigh & board bitten',\n",
       "       'Ankle bitten when she accidently stepped on the shark  PROVOKED INCIDENT',\n",
       "       'Buttock & leg bitten', 'Forearm severely bitten',\n",
       "       'Serious injury to left leg', 'Thigh & hand lacerated',\n",
       "       'No Injury, Kayak holed',\n",
       "       'Thigh bitten, toes of left foot severed',\n",
       "       'Severe lacerations to abdomen & thighs',\n",
       "       'Severe bites to head & shoulder', 'Puncture wounds on chest',\n",
       "       'Right knee bitten', 'Feet & ankles bitten',\n",
       "       'Lower legs lacerated', 'No injury, swim fin bitten',\n",
       "       'Legs lacerated, puncture wound in hand from hooked shark hauled onboard PROVOKED INCIDENT',\n",
       "       '6\" laceration to left forearm', 'Right leg bruised & abraded',\n",
       "       'Minor lacerations to hand, 15\" crescent-shaped piece removed from surfboard',\n",
       "       '10 puncture wounds to right calf',\n",
       "       \"Forearm  & hand bitten; tooth fragments of the shark were recovered from the surfer's hand\",\n",
       "       'Foot punctured', 'Right leg severely lacerated  FATAL',\n",
       "       'Foot & swim fin punctured',\n",
       "       'Chest & arm bruised & scratched, 15\" crescent-shaped piece removed from board',\n",
       "       'Minor bruises', 'Minor cuts, sufboard bitten',\n",
       "       'Punctures & lacerations on lower leg',\n",
       "       'Foot bitten, crescent of bitemarks in both sides of board',\n",
       "       'Left shoulder & side bitten, board broken', 'Right leg lacerated',\n",
       "       'Left cheek lacerated',\n",
       "       \"No injury, shark became tangled in hose & towed him 100'\",\n",
       "       'FATAL, right leg at hip, left leg and right forearm severed',\n",
       "       'Arm, shoulder & back bitten',\n",
       "       'Shark bit his arm, nearly severing it PROVOKED INCIDENT',\n",
       "       'Deep cuts on lower leg', 'Bite to left thigh & calf',\n",
       "       'No Injury to occupant; canoe bitten', 'Left arm severed',\n",
       "       'Forearm, upper thigh, knee & ankle lacerated',\n",
       "       'Left ankle, calf, thigh and abdomen bitten',\n",
       "       'Abdomen bitten & leg severed  FATAL', 'Right thigh',\n",
       "       'Calf lacerated & board bitten', 'Foot & swim fin bitten',\n",
       "       'Ear, shoulder, arm, wrist & ear injured',\n",
       "       'Hand & wrist bitten, tooth fragments in wound', 'Wrist bitten',\n",
       "       'No Injury, board bitten',\n",
       "       'Superficial injuries to left foot & ankle',\n",
       "       'Shark rammed & overturned paddleboard, knocking him into water & bit his head, lacerating his face & neck',\n",
       "       'No injury, kayak capsized', '4 punctures on leg & board bitten',\n",
       "       'Thigh severely lacerated',\n",
       "       'Lacerations & abrasions, board bitten in half',\n",
       "       'Foot & leg bitten', 'Chest lacerated',\n",
       "       'Bitten by hooked shark PROVOKED INCIDENT',\n",
       "       'Left leg bitten by captive shark                   PROVOKED INCIDENT',\n",
       "       'Multiple Injuries',\n",
       "       'No injury, shark took chunk out of surfboard', 'Torso bitten',\n",
       "       'Forearm bitten', 'Thigh bitten FATAL',\n",
       "       'FATAL. His body not recovered',\n",
       "       'FATAL, thigh bitten, hands lacerated',\n",
       "       'Abdomen lacerated, surfboard holed',\n",
       "       'Leg bitten & femur fractured', 'Left leg lacerated',\n",
       "       'Hand lacerated', 'FATAL, thigh & hand lacerated',\n",
       "       'Cuts to right foot and ankle',\n",
       "       'Lower left leg bitten, hand lacerated',\n",
       "       'Leg bitten, surgically amputated',\n",
       "       'Foot lacerated by hooked shark PROVOKED INCIDENT',\n",
       "       'Left thigh & calf lacerated', 'Lower left leg lacerated',\n",
       "       'Fingers & surfboard injured', 'Puncture wounds to right hand',\n",
       "       'FATAL, legs bitten',\n",
       "       'Punctured lung, lacerations to shoulder, face, jaw, neck & forearm',\n",
       "       'Hip & thigh bitten', 'Minor lacerations on left hand',\n",
       "       '2 punctures in upper arm',\n",
       "       'No injury, knocked into water & board bitten',\n",
       "       'Puncture wounds to both feet', 'No injury, foot bumped',\n",
       "       'Left leg severely lacerated, superficial lacerations of right leg,  board damaged',\n",
       "       'Minor injury to foot & ankle', 'Contusion of left foot',\n",
       "       'Bruised', 'Right knee, calf and ankle lacerated',\n",
       "       'Thigh & calf bitten',\n",
       "       'Upper right arm bitten after he shot the shark PROVOKED INCIDENT',\n",
       "       '9\" laceration to right forearm',\n",
       "       'Abrasion on right foot, board bitten', 'Legs severely lacerated',\n",
       "       'Punctures in wetsuit & left arm bruised by captive shark PROVOKED INCIDENT',\n",
       "       'Shin lacerated', 'Inner thighs lacerated',\n",
       "       'Right leg severely bitten',\n",
       "       'FATAL, shark seized her by the chest and took her underwater',\n",
       "       'FATAL, shark bit leg, then dragged him underwater',\n",
       "       'Left knee bitten, but survived',\n",
       "       'Left ankle nipped (3 punctures wounds)',\n",
       "       'Left calf, knee & hands lacerated', 'Puncture wounds to buttocks',\n",
       "       'No injury, rammed by shark', 'No Injury, surfboard bitten',\n",
       "       'Laceration to lower left leg',\n",
       "       'Upper left thigh & buttocks bitten', 'Right shin & toe lacerated',\n",
       "       'FATAL, torso bitten', 'Hand & forearm bitten',\n",
       "       'FATAL, right calf bitten', 'Upper right arm bitten',\n",
       "       '7 lacerations to right foot',\n",
       "       'Shark & board collided. No injury, but board was dented',\n",
       "       'Left leg bitten, surgically amputated',\n",
       "       'Lacerations on calf, ankle & heel',\n",
       "       'Puncture wounds on  right thigh',\n",
       "       'Lacerations & punctures in left calf & ankle',\n",
       "       'No injury, paddleski bitten', 'Bitten twice',\n",
       "       'No injury, shark bit her bathing suit',\n",
       "       'Both hands & heel of left foot lacerated, right foot severed',\n",
       "       'No injury, rammed & catapulted from the water by shark after he shot at it & missed PROVOKED INCIDENT',\n",
       "       '3 small punctures on arm', 'Multiple major Injuries',\n",
       "       'Shark rammed diver after he shot it in the head  PROVOKED INCIDENT',\n",
       "       'Foot & ankle bitten', 'Punctures on left thigh',\n",
       "       'No injury, shark took his catch, then towed & pushed diver through the water',\n",
       "       'Left leg, ankle & foot bitten',\n",
       "       'Both legs bitten, 2 days later gangrene necessitated surgical amputation of left leg at mid-thigh',\n",
       "       'No injury, shark bit speargun & pushed diver through the water',\n",
       "       'Board rammed &  bitten, left thigh lacerated',\n",
       "       'PROVOKED INCIDENT    Diver poked shark with spear, then shark bit his right foot',\n",
       "       'Buttocks & hip bitten',\n",
       "       'Right arm severed 1\" below elbow with extensive tissue loss 3\" above elbow',\n",
       "       'Laceration to left lower leg', 'Left leg & surfboard bitten',\n",
       "       'Calf bitten, leg surgically amputated below the knee  Note: by late August, 3 more bathers had been bitten by sharks at Daytona Beach',\n",
       "       'Shoulder, arm & hand lacerated', 'Legs bitten',\n",
       "       'No injury, swim fin torn', 'Arm lacerated',\n",
       "       'Right leg  severed FATAL',\n",
       "       'Thigh, lower back and surfboard bitten', 'Major injuries',\n",
       "       'Bitten 12 times: multiple lacerations on hands, arms, shoulder breast thigh, both legs, left forearm surgically amputated',\n",
       "       'Minor injuries to hand', 'Minor bite on foot & swimfin',\n",
       "       'Left knee lacerated', 'Knee & calf lacerated',\n",
       "       'Left hand & forearm lacerated', 'Hip bruised',\n",
       "       'Hip, leg, arm, hand & shoulder bitten', 'Buttocks bitten',\n",
       "       'Bitten on legs & buttock', 'Laceration above knee',\n",
       "       'Leg severed at knee,  hand severed, arms, torso & buttock severely lacerated',\n",
       "       'Right forearm bitten', 'Right shoulder, arm & hand bitten',\n",
       "       'Wrist & hand lacerated', 'Bitten on legs',\n",
       "       'Eight puncture wounds to right leg by captive shark PROVOKED INCIDENT',\n",
       "       'Leg & surfboard bitten',\n",
       "       'Lacerations & punctures to right arm & shoulder',\n",
       "       '2 cm laceration on knee PROVOKED INCIDENT',\n",
       "       'Leg & ankle severely bitten',\n",
       "       'Lacerations to right lower leg & left arm and hand',\n",
       "       'Laceration to buttocks Recorded as PROVOKED INCIDENT',\n",
       "       'Lacerations to hand from hooked shark PROVOKED INCIDENT',\n",
       "       'Laceration to finger by a captive shark PROVOKED INCIDENT',\n",
       "       'Hit in face by shark, arm abraded, surfboard bitten',\n",
       "       'FATAL, left leg bitten, femoral artery severed',\n",
       "       'Lacerations to head', 'Major injury to torso',\n",
       "       'Swimfin & knee bitten', 'No injury, speargun bitten',\n",
       "       'Nipped on shoulder by captive shark PROVOKED INCIDENT',\n",
       "       'FATAL, \"bitten in two\"', 'Shark grasped thigh',\n",
       "       'No injury, shark struck camera',\n",
       "       'After shark was speared & hit on head, it bit the diver’s foot  PROVOKED INCIDENT',\n",
       "       'Punctures in right buttock & thigh, abrasion on right forearm',\n",
       "       'Speared shark lacerated his arm PROVOKED INCIDENT',\n",
       "       'FATAL, seen taken by a shark', 'Shoulder lacerated',\n",
       "       'No injury, mother lifted him from the water',\n",
       "       'Arm bitten, PROVOKED INCIDENT',\n",
       "       '3 lacerations on  right leg by speared fish PROVOKED INCIDENT',\n",
       "       'Hand & forearm bitten by hooked shark PROVOKED INCIDENT',\n",
       "       'Punctures on  thigh & buttock',\n",
       "       'Left leg & lower right leg bitten, taken ashore with shark still grasping his leg',\n",
       "       'Left leg lacerated by hooked shark  PROVOKED INCIDENT',\n",
       "       'Hand, arm & thigh bitten', 'Thigh gashed',\n",
       "       'Puncture wounds to right thigh', 'Left hand severely lacerated',\n",
       "       'Left hand punctured & lacerated',\n",
       "       'Abdomen, buttock, thigh, arm & hand bitten',\n",
       "       'Hand, ankle & calf lacerated', 'Left leg severed',\n",
       "       'Abrasions & 11 teethmarks on right lower leg',\n",
       "       'Right thigh &  elbow bitten', 'No injury, shark hit scuba tank',\n",
       "       'FATAL, buttocks, lower abdomen & genitalia removed',\n",
       "       'Minor injury, abdomen abraded when he collided with the shark',\n",
       "       'No injury to diver, shark bit speargun', 'Right ankle lacerated',\n",
       "       'FATAL, both legs bitten & right leg severed at knee',\n",
       "       'Leg & thigh bitten',\n",
       "       'Right hand & foot severed, thigh & buttock lacerated',\n",
       "       'Lower leg bitten & foot severed, leg surgically amputated below knee',\n",
       "       'Foot lacerated  PROVOKED INCIDENT',\n",
       "       'FATAL, arm severed, leg bitten', 'Torso & hand lacerated',\n",
       "       'Hand & lower leg severely injured',\n",
       "       'Left arm lacerated  PROVOKED INCIDENT',\n",
       "       'Right thigh &  foot bruised, right calf  lacerated',\n",
       "       'FATAL, right thigh, calf & foot bitten',\n",
       "       'A \"dead\" shark grabbed by the tail bit his right torso PROVOKED INCIDENT',\n",
       "       'Minor injury to left forearm  PROVOKED INCIDENT',\n",
       "       'Hooked shark bit his nose, arm and leg PROVOKED INCIDENT',\n",
       "       'FATAL, hand severed, shoulder, hip, foot, thigh bitten & femoral artery severed',\n",
       "       'FATAL, right femoral artery severed, thigh, calf, buttock & left hand bitten',\n",
       "       'Lacerations & punctures on left  forearm',\n",
       "       'Lacerations to right  arm',\n",
       "       'FATAL, right leg bitten thigh to calf',\n",
       "       'Arm, hand, buttock, leg and thigh bitten',\n",
       "       'FATAL, both legs bitten', 'Left thigh & hand & speargun bitten',\n",
       "       'FATAL, multiple injuries to both legs',\n",
       "       'Posterior lower left leg lacerated by netted shark PROVOKED INCIDENT',\n",
       "       'Struck shark with abalone bar to scare it away from abalone, but shark bit his shoulder  PROVOKED INCIDENT',\n",
       "       'FATAL, lower right leg bitten', 'Left thigh & hand bitten',\n",
       "       '2 lacerations on left hand by hooked shark, PROVOKED INCIDENT',\n",
       "       '8\" laceration on left calf',\n",
       "       'Right forearm bitten PROVOKED INCIDENT',\n",
       "       'FATAL, calf bitten, other leg severed below knee',\n",
       "       'FATAL, tissue removed from thigh, femoral artery severed',\n",
       "       'Shin bitten',\n",
       "       'Left hand injured: gash on back of hand, toothmarks on palm',\n",
       "       'Buttock bitten & major leg wound',\n",
       "       'Dorsum of foot lacerated & toe severed',\n",
       "       'Left leg & buttocks bitten', '2.5\" laceration on right hand',\n",
       "       'FATAL, right arm severed at shoulder, left hand severed, right thigh bitten & surgically amputated.  Died  day after the attack',\n",
       "       'Hand bitten, surgically amputated',\n",
       "       'Lower right leg & ankle bitten',\n",
       "       'No injury, Parker shot the shark when it came close to his nephew, Bill Bradbury (14), then the shark bent his speargun PROVOKED INCIDENT',\n",
       "       'FATAL, right wrist and hand bitten, left leg severed above knee',\n",
       "       'Right thigh and leg lacerated',\n",
       "       'FATAL, hand severed & legs bitten',\n",
       "       'Foot, leg  & groin lacerated',\n",
       "       'Right arm bitten. Left leg bitten, surgically amputated',\n",
       "       'Puncture wound on right shin & fingers lacerated by speared shark PROVOKED INCIDENT',\n",
       "       'No injury, wetsuit bitten',\n",
       "       'Middle finger of left hand & right forearm lacerated',\n",
       "       'Multiple injuries to both hands, left leg & foot',\n",
       "       'Tiny cuts & bruises on neck',\n",
       "       'FATAL, extensive abdominal wounds, died 4 days later',\n",
       "       \"Abdomen & arm bitten. Shark, holding him by the arm, leapt 4' to 5' above the surface\",\n",
       "       'Left leg bitten  & left forearm lacerated', 'Right elbow bitten',\n",
       "       'Torso bruised & abraded',\n",
       "       'FATAL, multiple injuries to both legs, feet & left arm',\n",
       "       'Left thigh bitten',\n",
       "       'Right calf  bitten by lassoed shark on deck of surf ski PROVOKED INCIDENT',\n",
       "       'Right foot, leg and hand bitten', 'FATAL, legs severed',\n",
       "       'Right shoulder lacerated',\n",
       "       'Right hand bitten by hooked shark PROVOKED INCIDENT',\n",
       "       'Right arm bitten  PROVOKED INCIDENT',\n",
       "       'No injury, shark harrassed diver & attempted to bite his swimfins',\n",
       "       'Left leg bitten, surgically amputated below the knee',\n",
       "       'Multiple major injuries', 'Right arm & side bruised',\n",
       "       'Ankle bitten, hand injured while striking shark',\n",
       "       'FATAL, right leg severed above knee, surgically amputated but died 9 days later',\n",
       "       'Thighs bitten, right hand lacerated',\n",
       "       'Lower left leg bittten, hand abraded',\n",
       "       'Ankle twisted, swim fin bitten', 'forearm abraded',\n",
       "       'During the night both hands and feet were bitten, rescued next day after spending 17 hours in the sea.',\n",
       "       '14 punctures on right thigh, swim trunks torn',\n",
       "       'FATAL, left arm bitten, right arm partly severed, deep lacerations of left shoulder & chest',\n",
       "       'Lacerated hip & hands', 'Leg severed below knee',\n",
       "       'Shark’s tail grazed his shin', 'Right foot & toe bitten',\n",
       "       'Thigh & both wrists lacerated', 'FATAL, left thigh & hip bitten',\n",
       "       'Right forearm lacerated', '3 lacerations on leg',\n",
       "       'Left hand and  leg bitten, leg surgically amputated below hip',\n",
       "       'He grabbed shark, it bit his leg below the knee PROVOKED INCIDENT',\n",
       "       \"No injury, shark went for diver's leg & missed, diver hit shark on head with speargun & shark bit speargun\",\n",
       "       \"Right foot bitten when he walked into shark's head PROVOKED INCIDENT\",\n",
       "       'Lower left leg & foot bitten', 'Right cheek bitten',\n",
       "       'FATAL, arm severed above elbow, abdomen & leg bitten',\n",
       "       'Laceration to left ankle, heel and little toe',\n",
       "       'Left arm severed, torso bitten, thigh lacerated, many abrasions',\n",
       "       'FATAL, right arm broken & stripped of flesh, left hand severed above wrist, lower abdomen, buttocks & thigh bitten',\n",
       "       'FATAL, knee bitten',\n",
       "       'Thigh bitten & few lacerations on abdomen & buttock',\n",
       "       'FATAL, seen with arm in mouth of shark. Body not recovered.',\n",
       "       'Ankle injured by shark trapped in pool as it tried to get out PROVOKED INCIDENT',\n",
       "       'Left arm bitten, surgically amputated',\n",
       "       'FATAL, left leg severed at hip, left torso removed',\n",
       "       'Lacerated thigh, hand & shoulder',\n",
       "       'FATAL, large amount of tissue removed from leg, artery severed',\n",
       "       'FATAL, abdomen bitten',\n",
       "       'Swimfin & 2 wool socks removed by shark, suit torn',\n",
       "       'FATAL, anterior left leg & right calf bitten, no tissue lost',\n",
       "       'Shark bit right arm & shoulder, then Aken says, he \"knocked out\" the shark',\n",
       "       'Arm & left calf bitten, right leg lacerated',\n",
       "       'Back & thighs lacerated',\n",
       "       'Shark tore off face mask, diver’s face, nose & chin lacerated',\n",
       "       'Bitten on thigh and buttocks', 'FATAL, leg lacerated',\n",
       "       'Thigh bruised & abraded',\n",
       "       'Leg severed below knee, defense wounds on hand',\n",
       "       'Minor laceration to chest when he grabbed the shark by its tail PROVOKED INCIDENT',\n",
       "       'Leg bitten, defense wounds on hands',\n",
       "       'Part of buttocks & fingers severed',\n",
       "       'Lacerations to right thumb and knee',\n",
       "       'Left thigh bitten by hooked shark PROVOKED INCIDENT',\n",
       "       'FATAL, left leg severed',\n",
       "       'Grabbed shark by the tail & it bit him PROVOKED INCIDENT',\n",
       "       'Leg gashed', 'FATAL, calf bitten, leg surgically amputated',\n",
       "       'Ankle & shin lacerated', 'Lacerations on buttock  &  right foot',\n",
       "       'Flexed left leg lacerated',\n",
       "       'Right leg bitten knee to foot, surgically amputated',\n",
       "       'FATAL, left leg  & shoulder bitten',\n",
       "       'Right foot severed & calf removed, leg  surgically amputated below the knee',\n",
       "       'FATAL, bitten in two',\n",
       "       \"Minor injury, ankle scratched by shark's teeth\",\n",
       "       \"Left hand bitten as he tried to put rope around shark's tail PROVOKED INCIDENT\",\n",
       "       'Right hand bitten by boated shark PROVOKED INCIDENT',\n",
       "       'FATAL, right thigh & calf bitten',\n",
       "       'FATAL, left thigh & knee bitten', 'FATAL, leg & thigh bitten',\n",
       "       'FATAL, left foot & right leg bitten, later surgically amputated',\n",
       "       'Minor injury to shoulder & back PROVOKED INCIDENT',\n",
       "       'Laceration to left foot & ankle by netted shark PROVOKED INCIDENT',\n",
       "       'Head, neck & shoulder bitten (In 1918, he was also bitten by a shark off Cairns)',\n",
       "       'FATAL, left arm severed at elbow, right arm bitten, right leg severed at knee',\n",
       "       'FATAL, buttocks, ankle & right elbow bitten',\n",
       "       'FATAL, finger severed, thigh bitten He died during the surgical amputation of his leg',\n",
       "       'Arm & back bitten, heel lacerated',\n",
       "       'FATAL, taken by shark, body not recovered. Twenty months later, in October 1937, meshing (setting anti-shark gill nets) began  at metropolitan beaches',\n",
       "       'FATAL. His body was not recovered, but about 3 weeks later 2 sharks were caught with human remains, thought to be those of Quinn',\n",
       "       'FATAL, left thigh, buttock, left forearm bitten, finger removed',\n",
       "       'FATAL, right leg lacerated', 'FATAL, leg & buttocks removed',\n",
       "       'Severely lacerated  right leg.  Later surgically amputated & survived despite gas gangrene',\n",
       "       'Torso bitten with pneumothorax, slight lacerations on left hand',\n",
       "       'Right shin, calf and sole of foot lacerated',\n",
       "       'Severe bump & few superficial wounds', 'Torso & arm bitten',\n",
       "       'Right calf severely bitten by shark caught in the net PROVOKED INCIDENT',\n",
       "       'FATAL, right thigh bitten, femoral artery severed',\n",
       "       'FATAL, right thigh & hip bitten',\n",
       "       'FATAL, multiple injuries including evisceration, 3 fractures of right arm, 5 fingers  & leg severed below knee',\n",
       "       'Right buttock & thigh bitten, thumb removed',\n",
       "       'FATAL, leg bitten from thigh to ankle', '3\" laceration to leg',\n",
       "       'FATAL, body was not recovered',\n",
       "       'Leg & hand lacerated and dog bitten',\n",
       "       'FATAL, thigh  & torso bitten, then shark charged rescue boat',\n",
       "       'FATAL, right thigh severely bitten, left arm lacerated',\n",
       "       'FATAL, severe injuries to torso',\n",
       "       'FATAL, arm severed, thigh severely bitten',\n",
       "       'Abdomen & thigh bitten',\n",
       "       'FATAL, right hand severed, lacerations on left thigh & left hand, died in hospital of gas gangrene',\n",
       "       'FATAL, both arms & shoulder bitten', 'FATAL, right thigh bitten',\n",
       "       'FATAL, left leg bitten', 'FATAL, hips & thigh bitten',\n",
       "       'Righ thigh severely bitten',\n",
       "       'Right leg bitten & foot severed, right arm bitten, bones fractured & nearly severed FATAL',\n",
       "       '\"Lost his arm\"',\n",
       "       'Lacerations to calf by netted shark PROVOKED INCIDENT',\n",
       "       'Feet bitten, surgically amputated FATAL',\n",
       "       'FATAL, upper left thigh, groin & buttocks severely bitten, leg surgically amputated at the hip'],\n",
       "      dtype=object)"
      ]
     },
     "execution_count": 26,
     "metadata": {},
     "output_type": "execute_result"
    }
   ],
   "source": [
    "# strip all leading and trailing spaces of Injury column\n",
    "df_cleaning.Injury = df_cleaning.Injury.str.strip()\n",
    "df_cleaning.Injury.unique()"
   ]
  },
  {
   "cell_type": "code",
   "execution_count": 27,
   "metadata": {},
   "outputs": [
    {
     "data": {
      "text/plain": [
       "Case Number               1399\n",
       "Date                      1399\n",
       "Year                      1399\n",
       "Type                      1399\n",
       "Country                   1399\n",
       "Area                      1399\n",
       "Location                  1399\n",
       "Activity                  1399\n",
       "Name                      1399\n",
       "Sex                       1399\n",
       "Age                       1399\n",
       "Injury                    1399\n",
       "Fatal (Y/N)               1399\n",
       "Time                      1399\n",
       "Species                   1399\n",
       "Investigator or Source    1399\n",
       "href formula              1399\n",
       "dtype: int64"
      ]
     },
     "execution_count": 27,
     "metadata": {},
     "output_type": "execute_result"
    }
   ],
   "source": [
    "df_cleaning.count()"
   ]
  },
  {
   "cell_type": "code",
   "execution_count": 28,
   "metadata": {},
   "outputs": [
    {
     "data": {
      "text/plain": [
       "array(['Paddling', 'Swimming', 'Walking', 'Feeding sharks', 'Fishing',\n",
       "       'Scuba diving', 'Surfing', 'Paddle-skiing',\n",
       "       'Stand-Up Paddleboarding', 'Wading', 'Spearfishing',\n",
       "       'Night bathing', 'Kayaking / Fishing', 'Snorkeling', 'SUP',\n",
       "       'Kayaking', 'Body boarding', 'Scuba Diving', 'Surf skiing',\n",
       "       'Surf fishing', 'Floating', 'SUP Foil boarding', 'Kite surfing',\n",
       "       'Floating in tube', 'Standing', 'Diving', 'Teasing a shark',\n",
       "       'Paddle boarding', 'Kayak Fishing', 'Surf-skiing',\n",
       "       'Scallop diving on hookah', 'Playing in the water',\n",
       "       'Body Boarding', 'Boogie boarding', 'Playing',\n",
       "       'Standing / Snorkeling', 'Hand feeding sharks', 'Rowing',\n",
       "       'Shark fishing', 'Body surfing', 'Kitesurfing', 'Kiteboarding',\n",
       "       'Swimming / snorkeling', 'Diving for Abalone', 'Casting a net',\n",
       "       'Cleaning fish', 'Boogie Boarding', 'Playing in the surf',\n",
       "       'Kite boarding', \"Fishing - 'tag & release'\", 'Bodyboarding',\n",
       "       'Swimming or boogie boarding', 'Free diving',\n",
       "       'Sitting in the water', 'Free diving / spearfishing',\n",
       "       'Diving, feeding sharks', 'Kite Surfing', 'Swimming or Snorkeling',\n",
       "       'Kite Boarding', 'Washing sand off a speared fish', 'Wakeboarding',\n",
       "       'Diving for abalone', 'Rescuing', 'Measuring sharks',\n",
       "       'Swimming / treading water', 'Wade Fishing',\n",
       "       'Diving, but on the surface when bitten by the shark',\n",
       "       'Treading water', 'Walking out of the water after surfing',\n",
       "       'Jet skiing',\n",
       "       \"Accidentally stood on hooked shark's tail before attempting to gut it\",\n",
       "       'Jumping', 'Floating near boat & observing bioluminesce',\n",
       "       'Jumped into the water', 'Reviving a sedated shark',\n",
       "       'Swimming / jumping off a jetty', 'Spearfishing (free diving)',\n",
       "       'Swimming / Body Surfing', 'Playing soccer in the water',\n",
       "       'Lifesaving drill', 'Fishing for sharks', 'Standing / Surfing',\n",
       "       'Holding onto an inflatable boat', 'Swimming with boogie board',\n",
       "       'Spearfishing (Free diving)', 'Diving in aquarium display tank',\n",
       "       'Fishing from a kayak',\n",
       "       'Scurfing (surfboard being  towed behind a boat)',\n",
       "       'Chumming for white sharks', 'Bathing',\n",
       "       'Wading / fishing & carrying a bag of fish',\n",
       "       'Swimming, poaching perlemoen', 'Free diving & spearfishing',\n",
       "       'Tandem surfing', 'Wading near a fishing net',\n",
       "       'Standing, stepped on shark',\n",
       "       'Swimming, wearing black wetsuit & swim fins',\n",
       "       'Sitting on surfboard',\n",
       "       'Walking, carrying surfboard & stepped on shark',\n",
       "       'Swimming with pod of dolphins', 'Swimming (using a float)',\n",
       "       'Fishing from Surfboard', 'Boogie boarding or Surfing',\n",
       "       'Wading, when he stepped on the shark', 'Shark Fishing',\n",
       "       'Snorkeling (filming the sardine run)', 'Floating on a raft',\n",
       "       'Fishing, removing the shark from his line',\n",
       "       'Scallop diving (using surface-supplied air & a POD)',\n",
       "       'Surfing, but standing in water alongside board',\n",
       "       'Swimming / Wading', 'Body-boarding',\n",
       "       'Swimming /  boogie boarding',\n",
       "       'Surfing, fell off surfboard & stepped on the shark.',\n",
       "       'Wreck / Technical diving', 'Standing alongside surfboard',\n",
       "       'Swimming back from anchored sailboat', 'Swimming / Body surfing',\n",
       "       'Windsurfing, but sitting on his board', 'Surfing / Wading',\n",
       "       'Spearfishing, holding mesh bag with speared fish',\n",
       "       'Spearfishing, but swimming at surface',\n",
       "       'Surfing, lying on surfboard', \"Lying prone in 2' of water\",\n",
       "       'Spearfishing & holding catch', 'Swimming with dolphins',\n",
       "       'Wading in school of baitfish', 'Splashing / wading',\n",
       "       'Windsurfing',\n",
       "       'Swimming after being swept into sea by a large wave',\n",
       "       'Swimming near pod of whales', 'Free diving for abalone',\n",
       "       'Towing rubber dinghy', 'Surfing (lying prone on his board)',\n",
       "       'Snorkeling – hunting crayfish and abalone',\n",
       "       'Swimming or paddle boarding',\n",
       "       'Scuba diving (submerged riding a scooter)',\n",
       "       'Body boarding or surfing', 'Surfing (sitting on his board)',\n",
       "       'Wading / Surfing', 'Body surfing, stood up on sandbar',\n",
       "       'Surfing / Swimming', 'Wade fishing', 'Swimming breast stoke',\n",
       "       'Dived naked into the water on a bet',\n",
       "       'Swimming with mask & snorkel', 'Playing / standing',\n",
       "       'Abalone diving using Hookah (near calving whales)',\n",
       "       'Abalone diving using Hookah (resting on the surface)',\n",
       "       'Scuba diving (ascending using scooter)',\n",
       "       'Scuba diving for bivalves',\n",
       "       'Commercial diver (submerged or treading water)',\n",
       "       'Surfing, paddling seawards', 'Jumped off rocks into white water',\n",
       "       'Hookah diving', 'Riding floatation device',\n",
       "       'Free diving for abalone (ascending)',\n",
       "       'Paddling on surfboard or body board',\n",
       "       'Scuba diving at seal colony', 'Paddling on surfboard',\n",
       "       'Free diving & spearfishing (ascending)',\n",
       "       'Standing in waist-deep water, helping his father tend a gill net containing dead fish',\n",
       "       'Lying on surfboard', 'Spearfishing / free diving',\n",
       "       'Scuba diving (submerged)', 'Hookah diving for sea urchins',\n",
       "       'Hookah diving for pen shells', 'Finning the shark that bit him',\n",
       "       'Canoeing', 'Swimming behind sailboat',\n",
       "       'Surfing, collided with shark',\n",
       "       'Free diving / spearfishing, from paddleboard & floating on the surface',\n",
       "       'Scuba diving (but on surface)', 'Resting on surfboard',\n",
       "       'Lying on surfboard & paddling',\n",
       "       \"Fishing, stepped on hooked shark's head\",\n",
       "       'Hookah diving for abalone (descending)', 'Feeding fish',\n",
       "       'Scuba diving, but swimming on surface', 'Surfing with dolphins',\n",
       "       'Sittting in water with his child', 'Lying atop surfboard',\n",
       "       \"Attempting to lasso shark's tail\",\n",
       "       'Free diving  & spearfishing (submerged)', 'Racing ski',\n",
       "       'Hookah diving for abalone', 'Free diving for scallops',\n",
       "       'Scuba Diving for lobster (at surface)',\n",
       "       'Sailing on catamaran & fell into the water',\n",
       "       'Surfing or body surfing', 'Skindiving',\n",
       "       'Towing her sister on plastic ski board',\n",
       "       'Swimming from the New Venture',\n",
       "       '14 m prawn trawler New Venture capsized  & sank in heavy seas Three people in the water',\n",
       "       'Water-skiing', 'Paddleskiing',\n",
       "       'Free diving for abalone from Zodiac (submerged)',\n",
       "       'Paddle Boarding', 'Snorkeling on surface', 'Shell diving',\n",
       "       'Standing / Wading', 'Free diving for abalone (surfacing)',\n",
       "       'Spearfishing / Scuba diving',\n",
       "       'Hookah diving for abalone (submerged)',\n",
       "       'Thrashing the water / imitating the shark victim from \"Jaws\"',\n",
       "       'Scuba diving & spearfishing', 'Floating on a small orange raft',\n",
       "       'Scuba diving for abalone',\n",
       "       'Scuba diving for abalone (at surface)',\n",
       "       'Swimming underwater from crayfish cage to a fishing bait',\n",
       "       'Free diving (but on surface)', 'Free diving, Spearfishing',\n",
       "       'Sitting in shallows', 'Scuba diving & feeding fish',\n",
       "       'Feeding mullet to sharks', 'Dynamite fishing',\n",
       "       'Spearfishing using Scuba',\n",
       "       'Wading & pushing dinghy toward  the shallows',\n",
       "       'Standing on sandbar', 'Pulling shark from the water',\n",
       "       'Spearfishing, dived to pick up a float line',\n",
       "       'Photographing sharks underwater using Scuba',\n",
       "       'Free diving, carrying speargun', 'Diving into water',\n",
       "       'Killing a shark', 'Clamming', 'Helping men land a shark',\n",
       "       'Free diving / spearfishing (resting on the surface)',\n",
       "       'Walking on reef', 'Paddling rescue ski',\n",
       "       'Canoe swamped, swimming back to canoe', 'Free diving with seals',\n",
       "       'Surfing, but swimming to his board',\n",
       "       'Floating on his back in an inner tube',\n",
       "       'Spearfishing using scuba', 'Skin diving',\n",
       "       'Spearfishing / Scuba diving (at surface)',\n",
       "       'Helping friend land hooked shark', 'Splashing in surf',\n",
       "       'Treading water while alongside capsized yacht',\n",
       "       'Fishing / standing in waist deep water', 'Surf fishing, wading',\n",
       "       'Spearing fish', 'Spearfishing, pulled shark’s tail',\n",
       "       'Free diving, hunting crayfish', 'Spearfishing with Scuba gear',\n",
       "       'Surf fishing in waist-deep water', 'Fishing for albacore',\n",
       "       'Rolled off raft',\n",
       "       'Scuba diving, attempting to catch a captive shark', 'Splashing',\n",
       "       \"Fishing with hand net in 2' of water\",\n",
       "       'Surfing, pushing board ashore',\n",
       "       'Swimming with other crew near wharf',\n",
       "       'Net fishing, picking catch from the net',\n",
       "       'Walking in chest-deep water',\n",
       "       'Checking fish traps, fell into the water',\n",
       "       'Swimming, using bundles of sticks as raft',\n",
       "       'Spearfishing, shark grabbed his white t-shirt and towed him',\n",
       "       'Collecting aquarium specimens',\n",
       "       'Fishing, when line became snagged on rock & he dived into water to free it',\n",
       "       'Holding shark on leader & dangling it above the water',\n",
       "       'Fishing, tossing netted shark onboard',\n",
       "       'Free diving but treading water at surface',\n",
       "       'Skindiving for abalone (but at surface)',\n",
       "       'Standing in chest-deep water',\n",
       "       'Trailing the field in a surf race',\n",
       "       \"Swimming at surface through school of feeding 2.5' to 5’ sharks\",\n",
       "       \"Adrift, hanging onto cushion, after his 17' skiff ran out of gas & capsized 3 miles from shore\",\n",
       "       'Spearfishing (but on surface)', 'Working prawn net',\n",
       "       'In deep water about 100 yards from his ship',\n",
       "       'Surfing, but treading water', 'Surfing on air mattress',\n",
       "       'Cleaning hull of ship',\n",
       "       'Swimming, ducking for shells in water 0.9 m deep',\n",
       "       'U.S. Airforce C124 enroute from Hickham Air Base to Japan went down. The 3 survivors fashioned raft from mailbags  & were rescued 3 days after the crash.',\n",
       "       'Spearfishing, had fish on his spear',\n",
       "       'Paddling in knee-deep water', 'Swimming with goggles',\n",
       "       'Competing in spearfishing championship & towing dead fish',\n",
       "       'Swimming between  anchored  pearling luggers',\n",
       "       'Skindiving, fish at belt', 'Swimming near pier',\n",
       "       'Swimming, attacked at  surf carnival',\n",
       "       'Hunting lobsters in 2.4 m of water',\n",
       "       'Pearl diving from lugger Whyalla', 'Crouching in the water',\n",
       "       'Fishing, setting nets', 'Body surfing & treading water',\n",
       "       'Fell off surf ski', 'Body surfing / treading water',\n",
       "       'Jerked overboard while pole fishing for tuna',\n",
       "       'Free diving or wading back to shore',\n",
       "       'Bathing in water 0.9 m deep', 'Lifesaving exhibition',\n",
       "       'Underwater photography', 'Swimming after a tennis ball',\n",
       "       'Jumping in swells',\n",
       "       'Dived overboard to check propeller of US Navy motor torpedo boat',\n",
       "       'Dog paddling or standing',\n",
       "       'Swimming along side N.E.L. vessel Saluda',\n",
       "       \"Fishing from 32' boat\",\n",
       "       'Dress diving, filming shark & pulling it through the water for a motion picture scene',\n",
       "       'Diving from the lugger San, operated by the Protector of the Aborigines',\n",
       "       'Refused permission to cross on the ferry, he was swimming across the river',\n",
       "       'Swimming crawl stroke', 'Diving for trochus',\n",
       "       'Swimming. Passer-by, Len Bedford, heard him shriek , saw shark leap from the water & swimmer disappeared',\n",
       "       'Fell overboard, hanging onto lifebuoy',\n",
       "       'Swimming in waist-deep water', 'Swimming in hip-deep water',\n",
       "       'Swimming on sandbar adjacent to channel',\n",
       "       'Collecting fish by lamplight in gully',\n",
       "       'Diving off pier & treading water', 'Standing in knee-deep water',\n",
       "       'Swimming with dog near canning factory', 'Floating on his back',\n",
       "       'Bathing in waist-deep water',\n",
       "       'Had just dived into water & was swimming',\n",
       "       \"Bathing in 3' to 4' of water\", 'Bathing in knee-deep water',\n",
       "       'Washing horses'], dtype=object)"
      ]
     },
     "execution_count": 28,
     "metadata": {},
     "output_type": "execute_result"
    }
   ],
   "source": [
    "# strip all leading and trailing spaces of Activity column\n",
    "df_cleaning.Activity = df_cleaning.Activity.str.strip()\n",
    "df_cleaning.Activity.unique()"
   ]
  },
  {
   "cell_type": "code",
   "execution_count": 29,
   "metadata": {},
   "outputs": [
    {
     "data": {
      "text/plain": [
       "323"
      ]
     },
     "execution_count": 29,
     "metadata": {},
     "output_type": "execute_result"
    }
   ],
   "source": [
    "df_cleaning.Activity.nunique()"
   ]
  },
  {
   "cell_type": "code",
   "execution_count": 30,
   "metadata": {},
   "outputs": [
    {
     "data": {
      "text/plain": [
       "269"
      ]
     },
     "execution_count": 30,
     "metadata": {},
     "output_type": "execute_result"
    }
   ],
   "source": [
    "df_cleaning.loc[df_cleaning['Activity'].str.contains('fishing', case=False), 'Activity'] = 'Fishing'\n",
    "df_cleaning.Activity.nunique()"
   ]
  },
  {
   "cell_type": "code",
   "execution_count": 31,
   "metadata": {},
   "outputs": [
    {
     "data": {
      "text/plain": [
       "255"
      ]
     },
     "execution_count": 31,
     "metadata": {},
     "output_type": "execute_result"
    }
   ],
   "source": [
    "df_cleaning.loc[df_cleaning['Activity'].str.contains('scuba', case=False), 'Activity'] = 'Scuba Diving'\n",
    "df_cleaning.Activity.nunique()"
   ]
  },
  {
   "cell_type": "code",
   "execution_count": 32,
   "metadata": {},
   "outputs": [
    {
     "data": {
      "text/plain": [
       "211"
      ]
     },
     "execution_count": 32,
     "metadata": {},
     "output_type": "execute_result"
    }
   ],
   "source": [
    "df_cleaning.loc[df_cleaning['Activity'].str.contains('swimming', case=False), 'Activity'] = 'Swimming'\n",
    "df_cleaning.Activity.nunique()"
   ]
  },
  {
   "cell_type": "code",
   "execution_count": 33,
   "metadata": {},
   "outputs": [
    {
     "data": {
      "text/plain": [
       "211"
      ]
     },
     "execution_count": 33,
     "metadata": {},
     "output_type": "execute_result"
    }
   ],
   "source": [
    "df_cleaning.loc[df_cleaning['Activity'].str.contains('Foil boarding', case=False), 'Activity'] = 'Foil-Boarding'\n",
    "df_cleaning.Activity.nunique()"
   ]
  },
  {
   "cell_type": "code",
   "execution_count": 34,
   "metadata": {},
   "outputs": [
    {
     "data": {
      "text/plain": [
       "208"
      ]
     },
     "execution_count": 34,
     "metadata": {},
     "output_type": "execute_result"
    }
   ],
   "source": [
    "df_cleaning.loc[df_cleaning['Activity'].str.contains('paddle boarding', case=False), 'Activity'] = 'Paddle Boarding'\n",
    "df_cleaning.loc[df_cleaning['Activity'].str.contains('Stand-Up Paddleboarding', case=False), 'Activity'] = 'Paddle Boarding'\n",
    "df_cleaning.loc[df_cleaning['Activity'].str.contains('SUP'), 'Activity'] = 'Paddle Boarding'\n",
    "df_cleaning.Activity.nunique()"
   ]
  },
  {
   "cell_type": "code",
   "execution_count": 35,
   "metadata": {},
   "outputs": [
    {
     "data": {
      "text/plain": [
       "203"
      ]
     },
     "execution_count": 35,
     "metadata": {},
     "output_type": "execute_result"
    }
   ],
   "source": [
    "df_cleaning.loc[df_cleaning['Activity'].str.contains('bathing', case=False), 'Activity'] = 'Bathing'\n",
    "df_cleaning.Activity.nunique()"
   ]
  },
  {
   "cell_type": "code",
   "execution_count": 36,
   "metadata": {},
   "outputs": [
    {
     "data": {
      "text/plain": [
       "199"
      ]
     },
     "execution_count": 36,
     "metadata": {},
     "output_type": "execute_result"
    }
   ],
   "source": [
    "df_cleaning.loc[df_cleaning['Activity'].str.contains('snorkeling', case=False), 'Activity'] = 'Snorkeling'\n",
    "df_cleaning.Activity.nunique()"
   ]
  },
  {
   "cell_type": "code",
   "execution_count": 37,
   "metadata": {},
   "outputs": [
    {
     "data": {
      "text/plain": [
       "192"
      ]
     },
     "execution_count": 37,
     "metadata": {},
     "output_type": "execute_result"
    }
   ],
   "source": [
    "df_cleaning.loc[df_cleaning['Activity'].str.contains('floating', case=False), 'Activity'] = 'Floating'\n",
    "df_cleaning.loc[df_cleaning['Activity'].str.contains('floatation', case=False), 'Activity'] = 'Floating'\n",
    "df_cleaning.Activity.nunique()"
   ]
  },
  {
   "cell_type": "code",
   "execution_count": 38,
   "metadata": {},
   "outputs": [
    {
     "data": {
      "text/plain": [
       "190"
      ]
     },
     "execution_count": 38,
     "metadata": {},
     "output_type": "execute_result"
    }
   ],
   "source": [
    "df_cleaning.loc[df_cleaning['Activity'].str.contains('splashing', case=False), 'Activity'] = 'Splashing'\n",
    "df_cleaning.Activity.nunique()"
   ]
  },
  {
   "cell_type": "code",
   "execution_count": 39,
   "metadata": {},
   "outputs": [
    {
     "data": {
      "text/plain": [
       "187"
      ]
     },
     "execution_count": 39,
     "metadata": {},
     "output_type": "execute_result"
    }
   ],
   "source": [
    "df_cleaning.loc[df_cleaning['Activity'].str.contains('skindiving', case=False), 'Activity'] = 'Skindiving'\n",
    "df_cleaning.loc[df_cleaning['Activity'].str.contains('Skin diving', case=False), 'Activity'] = 'Skindiving'\n",
    "df_cleaning.Activity.nunique()"
   ]
  },
  {
   "cell_type": "code",
   "execution_count": 40,
   "metadata": {
    "scrolled": true
   },
   "outputs": [
    {
     "data": {
      "text/plain": [
       "177"
      ]
     },
     "execution_count": 40,
     "metadata": {},
     "output_type": "execute_result"
    }
   ],
   "source": [
    "df_cleaning.loc[df_cleaning['Activity'].str.contains('abalone', case=False), 'Activity'] = 'Abalone Diving'\n",
    "df_cleaning.Activity.nunique()"
   ]
  },
  {
   "cell_type": "code",
   "execution_count": 41,
   "metadata": {},
   "outputs": [
    {
     "data": {
      "text/plain": [
       "176"
      ]
     },
     "execution_count": 41,
     "metadata": {},
     "output_type": "execute_result"
    }
   ],
   "source": [
    "df_cleaning.loc[df_cleaning['Activity'].str.contains('Paddleskiing', case=False), 'Activity'] = 'Paddle-skiing'\n",
    "df_cleaning.Activity.nunique()"
   ]
  },
  {
   "cell_type": "code",
   "execution_count": 42,
   "metadata": {},
   "outputs": [
    {
     "data": {
      "text/plain": [
       "175"
      ]
     },
     "execution_count": 42,
     "metadata": {},
     "output_type": "execute_result"
    }
   ],
   "source": [
    "df_cleaning.loc[df_cleaning['Activity'].str.contains('Surf skiing', case=False), 'Activity'] = 'Surf-skiing'\n",
    "df_cleaning.Activity.nunique()"
   ]
  },
  {
   "cell_type": "code",
   "execution_count": 43,
   "metadata": {},
   "outputs": [
    {
     "data": {
      "text/plain": [
       "171"
      ]
     },
     "execution_count": 43,
     "metadata": {},
     "output_type": "execute_result"
    }
   ],
   "source": [
    "df_cleaning.loc[df_cleaning['Activity'].str.contains('Bodyboarding', case=False), 'Activity'] = 'Body-boarding'\n",
    "df_cleaning.loc[df_cleaning['Activity'].str.contains('Body Boarding', case=False), 'Activity'] = 'Body-boarding'\n",
    "df_cleaning.Activity.nunique()"
   ]
  },
  {
   "cell_type": "code",
   "execution_count": 44,
   "metadata": {},
   "outputs": [
    {
     "data": {
      "text/plain": [
       "169"
      ]
     },
     "execution_count": 44,
     "metadata": {},
     "output_type": "execute_result"
    }
   ],
   "source": [
    "df_cleaning.loc[df_cleaning['Activity'].str.contains('boogie boarding', case=False), 'Activity'] = 'Boogie Boarding'\n",
    "df_cleaning.Activity.nunique()"
   ]
  },
  {
   "cell_type": "code",
   "execution_count": 45,
   "metadata": {},
   "outputs": [
    {
     "data": {
      "text/plain": [
       "164"
      ]
     },
     "execution_count": 45,
     "metadata": {},
     "output_type": "execute_result"
    }
   ],
   "source": [
    "df_cleaning.loc[df_cleaning['Activity'].str.contains('kite', case=False), 'Activity'] = 'Kite-Surfing'\n",
    "df_cleaning.Activity.nunique()"
   ]
  },
  {
   "cell_type": "code",
   "execution_count": 46,
   "metadata": {},
   "outputs": [
    {
     "data": {
      "text/plain": [
       "160"
      ]
     },
     "execution_count": 46,
     "metadata": {},
     "output_type": "execute_result"
    }
   ],
   "source": [
    "df_cleaning.loc[df_cleaning['Activity'].str.contains('body surfing', case=False), 'Activity'] = 'Body-Surfing'\n",
    "df_cleaning.Activity.nunique()"
   ]
  },
  {
   "cell_type": "code",
   "execution_count": 47,
   "metadata": {},
   "outputs": [
    {
     "data": {
      "text/plain": [
       "159"
      ]
     },
     "execution_count": 47,
     "metadata": {},
     "output_type": "execute_result"
    }
   ],
   "source": [
    "df_cleaning.loc[df_cleaning['Activity'].str.contains('windsurfing', case=False), 'Activity'] = 'Wind-Surfing'\n",
    "df_cleaning.Activity.nunique()"
   ]
  },
  {
   "cell_type": "code",
   "execution_count": 48,
   "metadata": {},
   "outputs": [
    {
     "data": {
      "text/plain": [
       "152"
      ]
     },
     "execution_count": 48,
     "metadata": {},
     "output_type": "execute_result"
    }
   ],
   "source": [
    "df_cleaning.loc[df_cleaning['Activity'].str.contains('wading', case=False), 'Activity'] = 'Wading'\n",
    "df_cleaning.Activity.nunique()"
   ]
  },
  {
   "cell_type": "code",
   "execution_count": 49,
   "metadata": {},
   "outputs": [
    {
     "data": {
      "text/plain": [
       "148"
      ]
     },
     "execution_count": 49,
     "metadata": {},
     "output_type": "execute_result"
    }
   ],
   "source": [
    "df_cleaning.loc[df_cleaning['Activity'].str.contains('playing', case=False), 'Activity'] = 'Playing'\n",
    "df_cleaning.Activity.nunique()"
   ]
  },
  {
   "cell_type": "code",
   "execution_count": 50,
   "metadata": {},
   "outputs": [
    {
     "data": {
      "text/plain": [
       "139"
      ]
     },
     "execution_count": 50,
     "metadata": {},
     "output_type": "execute_result"
    }
   ],
   "source": [
    "df_cleaning.loc[df_cleaning['Activity'].str.contains('standing', case=False), 'Activity'] = 'Standing'\n",
    "df_cleaning.Activity.nunique()"
   ]
  },
  {
   "cell_type": "code",
   "execution_count": 51,
   "metadata": {},
   "outputs": [
    {
     "data": {
      "text/plain": [
       "136"
      ]
     },
     "execution_count": 51,
     "metadata": {},
     "output_type": "execute_result"
    }
   ],
   "source": [
    "df_cleaning.loc[df_cleaning['Activity'].str.contains('hookah', case=False), 'Activity'] = 'Hookah Diving'\n",
    "df_cleaning.Activity.nunique()"
   ]
  },
  {
   "cell_type": "code",
   "execution_count": 52,
   "metadata": {},
   "outputs": [
    {
     "data": {
      "text/plain": [
       "130"
      ]
     },
     "execution_count": 52,
     "metadata": {},
     "output_type": "execute_result"
    }
   ],
   "source": [
    "df_cleaning.loc[df_cleaning['Activity'].str.contains('free', case=False), 'Activity'] = 'Free Diving'\n",
    "df_cleaning.Activity.nunique()"
   ]
  },
  {
   "cell_type": "code",
   "execution_count": 53,
   "metadata": {},
   "outputs": [
    {
     "data": {
      "text/plain": [
       "109"
      ]
     },
     "execution_count": 53,
     "metadata": {},
     "output_type": "execute_result"
    }
   ],
   "source": [
    "df_cleaning.loc[df_cleaning['Activity'].str.contains('surfing ', case=False), 'Activity'] = 'Surfing'\n",
    "df_cleaning.loc[df_cleaning['Activity'].str.contains(' surfing', case=False), 'Activity'] = 'Surfing'\n",
    "df_cleaning.loc[df_cleaning['Activity'].str.contains('surfing,', case=False), 'Activity'] = 'Surfing'\n",
    "df_cleaning.loc[df_cleaning['Activity'].str.contains('surfboard', case=False), 'Activity'] = 'Surfing'\n",
    "df_cleaning.Activity.nunique()"
   ]
  },
  {
   "cell_type": "code",
   "execution_count": 54,
   "metadata": {},
   "outputs": [
    {
     "data": {
      "text/plain": [
       "103"
      ]
     },
     "execution_count": 54,
     "metadata": {},
     "output_type": "execute_result"
    }
   ],
   "source": [
    "df_cleaning.loc[df_cleaning['Activity'].str.contains('Diving, feeding sharks', case=False), 'Activity'] = 'Diving'\n",
    "df_cleaning.loc[df_cleaning['Activity'].str.contains('Diving in aquarium display tank', case=False), 'Activity'] = 'Diving'\n",
    "df_cleaning.loc[df_cleaning['Activity'].str.contains('Diving off pier & treading water', case=False), 'Activity'] = 'Diving'\n",
    "df_cleaning.loc[df_cleaning['Activity'].str.contains('Diving from the lugger San', case=False), 'Activity'] = 'Diving'\n",
    "df_cleaning.loc[df_cleaning['Activity'].str.contains('Diving into water', case=False), 'Activity'] = 'Diving'\n",
    "df_cleaning.loc[df_cleaning['Activity'].str.contains('Diving, but on the surface when bitten by the shark', case=False), 'Activity'] = 'Diving'\n",
    "df_cleaning.Activity.nunique()"
   ]
  },
  {
   "cell_type": "code",
   "execution_count": 55,
   "metadata": {},
   "outputs": [
    {
     "data": {
      "text/plain": [
       "103"
      ]
     },
     "execution_count": 55,
     "metadata": {},
     "output_type": "execute_result"
    }
   ],
   "source": [
    "df_cleaning.loc[df_cleaning['Activity'].str.contains('Pearl diving', case=False), 'Activity'] = 'Pearl Diving'\n",
    "df_cleaning.Activity.nunique()"
   ]
  },
  {
   "cell_type": "code",
   "execution_count": 56,
   "metadata": {},
   "outputs": [
    {
     "data": {
      "text/plain": [
       "101"
      ]
     },
     "execution_count": 56,
     "metadata": {},
     "output_type": "execute_result"
    }
   ],
   "source": [
    "df_cleaning.loc[df_cleaning['Activity'].str.contains('feeding sharks', case=False), 'Activity'] = 'Feeding Sharks'\n",
    "df_cleaning.loc[df_cleaning['Activity'].str.contains('Feeding mullet to sharks', case=False), 'Activity'] = 'Feeding Sharks'\n",
    "df_cleaning.Activity.nunique()"
   ]
  },
  {
   "cell_type": "code",
   "execution_count": 57,
   "metadata": {},
   "outputs": [
    {
     "data": {
      "text/plain": [
       "99"
      ]
     },
     "execution_count": 57,
     "metadata": {},
     "output_type": "execute_result"
    }
   ],
   "source": [
    "df_cleaning.loc[df_cleaning['Activity'].str.contains('sittting', case=False), 'Activity'] = 'Sitting'\n",
    "df_cleaning.loc[df_cleaning['Activity'].str.contains('sitting', case=False), 'Activity'] = 'Sitting'\n",
    "df_cleaning.Activity.nunique()"
   ]
  },
  {
   "cell_type": "code",
   "execution_count": 58,
   "metadata": {},
   "outputs": [
    {
     "data": {
      "text/plain": [
       "['Sitting']"
      ]
     },
     "execution_count": 58,
     "metadata": {},
     "output_type": "execute_result"
    }
   ],
   "source": [
    "list(df_cleaning.loc[df_cleaning['Activity'].str.contains('sitting', case=False), 'Activity'].unique())"
   ]
  },
  {
   "cell_type": "code",
   "execution_count": 59,
   "metadata": {},
   "outputs": [
    {
     "data": {
      "text/plain": [
       "array(['Paddling', 'Swimming', 'Walking', 'Feeding Sharks', 'Fishing',\n",
       "       'Scuba Diving', 'Surfing', 'Paddle-skiing', 'Paddle Boarding',\n",
       "       'Wading', 'Bathing', 'Snorkeling', 'Kayaking', 'Body-boarding',\n",
       "       'Surf-skiing', 'Floating', 'Foil-Boarding', 'Kite-Surfing',\n",
       "       'Standing', 'Diving', 'Teasing a shark', 'Hookah Diving',\n",
       "       'Playing', 'Boogie Boarding', 'Rowing', 'Body-Surfing',\n",
       "       'Abalone Diving', 'Casting a net', 'Cleaning fish', 'Free Diving',\n",
       "       'Sitting', 'Washing sand off a speared fish', 'Wakeboarding',\n",
       "       'Rescuing', 'Measuring sharks', 'Treading water', 'Jet skiing',\n",
       "       \"Accidentally stood on hooked shark's tail before attempting to gut it\",\n",
       "       'Jumping', 'Jumped into the water', 'Reviving a sedated shark',\n",
       "       'Lifesaving drill', 'Holding onto an inflatable boat',\n",
       "       'Chumming for white sharks',\n",
       "       'Scallop diving (using surface-supplied air & a POD)',\n",
       "       'Wreck / Technical diving', 'Wind-Surfing',\n",
       "       \"Lying prone in 2' of water\", 'Splashing', 'Towing rubber dinghy',\n",
       "       'Dived naked into the water on a bet',\n",
       "       'Commercial diver (submerged or treading water)',\n",
       "       'Jumped off rocks into white water',\n",
       "       'Finning the shark that bit him', 'Canoeing', 'Feeding fish',\n",
       "       \"Attempting to lasso shark's tail\", 'Racing ski',\n",
       "       'Sailing on catamaran & fell into the water', 'Skindiving',\n",
       "       'Towing her sister on plastic ski board',\n",
       "       '14 m prawn trawler New Venture capsized  & sank in heavy seas Three people in the water',\n",
       "       'Water-skiing', 'Shell diving',\n",
       "       'Thrashing the water / imitating the shark victim from \"Jaws\"',\n",
       "       'Pulling shark from the water', 'Killing a shark', 'Clamming',\n",
       "       'Helping men land a shark', 'Walking on reef',\n",
       "       'Paddling rescue ski', 'Helping friend land hooked shark',\n",
       "       'Treading water while alongside capsized yacht', 'Spearing fish',\n",
       "       'Rolled off raft', 'Walking in chest-deep water',\n",
       "       'Checking fish traps, fell into the water',\n",
       "       'Collecting aquarium specimens',\n",
       "       'Holding shark on leader & dangling it above the water',\n",
       "       'Trailing the field in a surf race',\n",
       "       \"Adrift, hanging onto cushion, after his 17' skiff ran out of gas & capsized 3 miles from shore\",\n",
       "       'Working prawn net', 'In deep water about 100 yards from his ship',\n",
       "       'Cleaning hull of ship',\n",
       "       'U.S. Airforce C124 enroute from Hickham Air Base to Japan went down. The 3 survivors fashioned raft from mailbags  & were rescued 3 days after the crash.',\n",
       "       'Paddling in knee-deep water',\n",
       "       'Hunting lobsters in 2.4 m of water', 'Pearl Diving',\n",
       "       'Crouching in the water', 'Fell off surf ski',\n",
       "       'Lifesaving exhibition', 'Underwater photography',\n",
       "       'Jumping in swells',\n",
       "       'Dived overboard to check propeller of US Navy motor torpedo boat',\n",
       "       'Dress diving, filming shark & pulling it through the water for a motion picture scene',\n",
       "       'Diving for trochus', 'Fell overboard, hanging onto lifebuoy',\n",
       "       'Collecting fish by lamplight in gully', 'Washing horses'],\n",
       "      dtype=object)"
      ]
     },
     "execution_count": 59,
     "metadata": {},
     "output_type": "execute_result"
    }
   ],
   "source": [
    "df_cleaning.Activity.unique()"
   ]
  },
  {
   "cell_type": "code",
   "execution_count": 60,
   "metadata": {},
   "outputs": [],
   "source": [
    "# df_shortened_years = df_cleaning.loc[df_cleaning['Year']>=2000]\n",
    "# df_shortened_years.head()"
   ]
  },
  {
   "cell_type": "code",
   "execution_count": 61,
   "metadata": {},
   "outputs": [],
   "source": [
    "# len(df_shortened_years.loc[df_shortened_years['Fatal (Y/N)'] == 'Y'])"
   ]
  },
  {
   "cell_type": "code",
   "execution_count": 62,
   "metadata": {},
   "outputs": [
    {
     "data": {
      "text/html": [
       "<div>\n",
       "<style scoped>\n",
       "    .dataframe tbody tr th:only-of-type {\n",
       "        vertical-align: middle;\n",
       "    }\n",
       "\n",
       "    .dataframe tbody tr th {\n",
       "        vertical-align: top;\n",
       "    }\n",
       "\n",
       "    .dataframe thead th {\n",
       "        text-align: right;\n",
       "    }\n",
       "</style>\n",
       "<table border=\"1\" class=\"dataframe\">\n",
       "  <thead>\n",
       "    <tr style=\"text-align: right;\">\n",
       "      <th></th>\n",
       "      <th>Case Number</th>\n",
       "      <th>Date</th>\n",
       "      <th>Year</th>\n",
       "      <th>Type</th>\n",
       "      <th>Country</th>\n",
       "      <th>Area</th>\n",
       "      <th>Location</th>\n",
       "      <th>Activity</th>\n",
       "      <th>Name</th>\n",
       "      <th>Sex</th>\n",
       "      <th>Age</th>\n",
       "      <th>Injury</th>\n",
       "      <th>Fatal (Y/N)</th>\n",
       "      <th>Time</th>\n",
       "      <th>Species</th>\n",
       "      <th>Investigator or Source</th>\n",
       "      <th>href formula</th>\n",
       "    </tr>\n",
       "  </thead>\n",
       "  <tbody>\n",
       "    <tr>\n",
       "      <th>0</th>\n",
       "      <td>2018.06.25</td>\n",
       "      <td>25-Jun-18</td>\n",
       "      <td>2018.0</td>\n",
       "      <td>Boating</td>\n",
       "      <td>USA</td>\n",
       "      <td>California</td>\n",
       "      <td>Oceanside, San Diego County</td>\n",
       "      <td>Paddling</td>\n",
       "      <td>Julie Wolfe</td>\n",
       "      <td>F</td>\n",
       "      <td>57</td>\n",
       "      <td>No injury to occupant, outrigger canoe and pad...</td>\n",
       "      <td>N</td>\n",
       "      <td>18h00</td>\n",
       "      <td>White shark</td>\n",
       "      <td>R. Collier, GSAF</td>\n",
       "      <td>http://sharkattackfile.net/spreadsheets/pdf_di...</td>\n",
       "    </tr>\n",
       "    <tr>\n",
       "      <th>6</th>\n",
       "      <td>2018.06.03.a</td>\n",
       "      <td>3-Jun-18</td>\n",
       "      <td>2018.0</td>\n",
       "      <td>Unprovoked</td>\n",
       "      <td>BRAZIL</td>\n",
       "      <td>Pernambuco</td>\n",
       "      <td>Piedade Beach, Recife</td>\n",
       "      <td>Swimming</td>\n",
       "      <td>Jose Ernesto da Silva</td>\n",
       "      <td>M</td>\n",
       "      <td>18</td>\n",
       "      <td>FATAL</td>\n",
       "      <td>Y</td>\n",
       "      <td>Late afternoon</td>\n",
       "      <td>Tiger shark</td>\n",
       "      <td>Diario de Pernambuco, 6/4/2018</td>\n",
       "      <td>http://sharkattackfile.net/spreadsheets/pdf_di...</td>\n",
       "    </tr>\n",
       "    <tr>\n",
       "      <th>8</th>\n",
       "      <td>2018.05.26.b</td>\n",
       "      <td>26-May-18</td>\n",
       "      <td>2018.0</td>\n",
       "      <td>Unprovoked</td>\n",
       "      <td>USA</td>\n",
       "      <td>Florida</td>\n",
       "      <td>Cocoa Beach, Brevard  County</td>\n",
       "      <td>Walking</td>\n",
       "      <td>Cody High</td>\n",
       "      <td>M</td>\n",
       "      <td>15</td>\n",
       "      <td>Lower left leg bitten</td>\n",
       "      <td>N</td>\n",
       "      <td>17h00</td>\n",
       "      <td>Bull shark, 6'</td>\n",
       "      <td>K.McMurray, TrackingSharks.com</td>\n",
       "      <td>http://sharkattackfile.net/spreadsheets/pdf_di...</td>\n",
       "    </tr>\n",
       "    <tr>\n",
       "      <th>10</th>\n",
       "      <td>2018.05.24</td>\n",
       "      <td>24-May-18</td>\n",
       "      <td>2018.0</td>\n",
       "      <td>Provoked</td>\n",
       "      <td>AUSTRALIA</td>\n",
       "      <td>Queensland</td>\n",
       "      <td>Cairns Aquarium</td>\n",
       "      <td>Feeding Sharks</td>\n",
       "      <td>male</td>\n",
       "      <td>M</td>\n",
       "      <td>32</td>\n",
       "      <td>Minor bite to hand by captive shark. PROVOKED ...</td>\n",
       "      <td>N</td>\n",
       "      <td>Morning</td>\n",
       "      <td>Grey reef shark</td>\n",
       "      <td>ABC.net.au ,05/24/2018</td>\n",
       "      <td>http://sharkattackfile.net/spreadsheets/pdf_di...</td>\n",
       "    </tr>\n",
       "    <tr>\n",
       "      <th>13</th>\n",
       "      <td>2018.05.13.a</td>\n",
       "      <td>13-May-18</td>\n",
       "      <td>2018.0</td>\n",
       "      <td>Invalid</td>\n",
       "      <td>ENGLAND</td>\n",
       "      <td>Cornwall</td>\n",
       "      <td>Off Land's End</td>\n",
       "      <td>Fishing</td>\n",
       "      <td>Max Berryman</td>\n",
       "      <td>M</td>\n",
       "      <td>21</td>\n",
       "      <td>Injured by teeth of a dead porbeagle shark he ...</td>\n",
       "      <td>N</td>\n",
       "      <td>08h15</td>\n",
       "      <td>Invalid incident</td>\n",
       "      <td>K. McMurray, TrackingSharks.com</td>\n",
       "      <td>http://sharkattackfile.net/spreadsheets/pdf_di...</td>\n",
       "    </tr>\n",
       "  </tbody>\n",
       "</table>\n",
       "</div>"
      ],
      "text/plain": [
       "     Case Number       Date    Year        Type    Country        Area  \\\n",
       "0     2018.06.25  25-Jun-18  2018.0     Boating        USA  California   \n",
       "6   2018.06.03.a   3-Jun-18  2018.0  Unprovoked     BRAZIL  Pernambuco   \n",
       "8   2018.05.26.b  26-May-18  2018.0  Unprovoked        USA     Florida   \n",
       "10    2018.05.24  24-May-18  2018.0    Provoked  AUSTRALIA  Queensland   \n",
       "13  2018.05.13.a  13-May-18  2018.0     Invalid    ENGLAND    Cornwall   \n",
       "\n",
       "                        Location        Activity                    Name Sex  \\\n",
       "0    Oceanside, San Diego County        Paddling             Julie Wolfe   F   \n",
       "6          Piedade Beach, Recife        Swimming  Jose Ernesto da Silva    M   \n",
       "8   Cocoa Beach, Brevard  County         Walking               Cody High   M   \n",
       "10               Cairns Aquarium  Feeding Sharks                    male   M   \n",
       "13                Off Land's End         Fishing            Max Berryman   M   \n",
       "\n",
       "   Age                                             Injury Fatal (Y/N)  \\\n",
       "0   57  No injury to occupant, outrigger canoe and pad...           N   \n",
       "6   18                                              FATAL           Y   \n",
       "8   15                              Lower left leg bitten           N   \n",
       "10  32  Minor bite to hand by captive shark. PROVOKED ...           N   \n",
       "13  21  Injured by teeth of a dead porbeagle shark he ...           N   \n",
       "\n",
       "              Time           Species           Investigator or Source  \\\n",
       "0            18h00       White shark                 R. Collier, GSAF   \n",
       "6   Late afternoon       Tiger shark   Diario de Pernambuco, 6/4/2018   \n",
       "8            17h00    Bull shark, 6'   K.McMurray, TrackingSharks.com   \n",
       "10         Morning   Grey reef shark           ABC.net.au ,05/24/2018   \n",
       "13           08h15  Invalid incident  K. McMurray, TrackingSharks.com   \n",
       "\n",
       "                                         href formula  \n",
       "0   http://sharkattackfile.net/spreadsheets/pdf_di...  \n",
       "6   http://sharkattackfile.net/spreadsheets/pdf_di...  \n",
       "8   http://sharkattackfile.net/spreadsheets/pdf_di...  \n",
       "10  http://sharkattackfile.net/spreadsheets/pdf_di...  \n",
       "13  http://sharkattackfile.net/spreadsheets/pdf_di...  "
      ]
     },
     "execution_count": 62,
     "metadata": {},
     "output_type": "execute_result"
    }
   ],
   "source": [
    "df = df_cleaning\n",
    "# df = df_shortened_years\n",
    "df.head()"
   ]
  },
  {
   "cell_type": "code",
   "execution_count": 63,
   "metadata": {},
   "outputs": [
    {
     "data": {
      "text/plain": [
       "['Case_Number',\n",
       " 'Date',\n",
       " 'Year',\n",
       " 'Type',\n",
       " 'Country',\n",
       " 'Area',\n",
       " 'Location',\n",
       " 'Activity',\n",
       " 'Name',\n",
       " 'Sex',\n",
       " 'Age',\n",
       " 'Injury',\n",
       " 'Fatal_(Y/N)',\n",
       " 'Time',\n",
       " 'Species',\n",
       " 'Investigator_or_Source',\n",
       " 'href_formula']"
      ]
     },
     "execution_count": 63,
     "metadata": {},
     "output_type": "execute_result"
    }
   ],
   "source": [
    "columns = df.columns \n",
    "columns = [i.replace(' ', '_') for i in columns]\n",
    "columns"
   ]
  },
  {
   "cell_type": "markdown",
   "metadata": {},
   "source": [
    "## Export Dataframe as CSV"
   ]
  },
  {
   "cell_type": "code",
   "execution_count": 64,
   "metadata": {},
   "outputs": [],
   "source": [
    "# df.to_csv(\"shark_data_cleaned.csv\", index=False)"
   ]
  },
  {
   "cell_type": "markdown",
   "metadata": {},
   "source": [
    "## Export to Database"
   ]
  },
  {
   "cell_type": "code",
   "execution_count": 65,
   "metadata": {},
   "outputs": [],
   "source": [
    "engine = create_engine('sqlite:///shark.sqlite', echo=False)"
   ]
  },
  {
   "cell_type": "code",
   "execution_count": 66,
   "metadata": {},
   "outputs": [],
   "source": [
    "df.columns = columns\n",
    "df.to_sql('shark_data_cleaned', con=engine, if_exists='replace', index_label=None)\n",
    "# engine.execute(\"SELECT * FROM shark_data_cleaned\").fetchall()"
   ]
  },
  {
   "cell_type": "code",
   "execution_count": 67,
   "metadata": {},
   "outputs": [],
   "source": [
    "#connect to the database\n",
    "conn = sqlite3.connect('shark.sqlite')\n",
    "c = conn.cursor()\n",
    "\n",
    "c.executescript('''\n",
    "\n",
    "    BEGIN TRANSACTION;\n",
    "    ALTER TABLE shark_data_cleaned RENAME TO shark_data_cleaned_OLD;\n",
    "\n",
    "    /*create a new table with the same column names and types while\n",
    "    defining a primary key for the desired column*/\n",
    "    CREATE TABLE shark_data_cleaned (\"id\" BIGINT PRIMARY KEY NOT NULL,\n",
    "                            \"Case_Number\" TEXT,\n",
    "                            \"Date\" TEXT,\n",
    "                            \"Year\"\tFLOAT,\n",
    "                            \"Type\"\tTEXT,\n",
    "                            \"Country\"\tTEXT,\n",
    "                            \"Area\"\tTEXT,\n",
    "                            \"Location\"\tTEXT,\n",
    "                            \"Activity\"\tTEXT,\n",
    "                            \"Name\"\tTEXT,\n",
    "                            \"Sex\"\tTEXT,\n",
    "                            \"Age\"\tTEXT,\n",
    "                            \"Injury\"\tTEXT,\n",
    "                            \"Fatality\"\tTEXT,\n",
    "                            \"Time\"\tTEXT,\n",
    "                            \"Species\"\tTEXT,\n",
    "                            \"Investigator_or_Source\"\tTEXT,\n",
    "                            \"href_formula\"\tTEXT);\n",
    "\n",
    "    INSERT INTO shark_data_cleaned SELECT * FROM shark_data_cleaned_OLD;\n",
    "\n",
    "    DROP TABLE shark_data_cleaned_OLD;\n",
    "    COMMIT TRANSACTION;\n",
    "    ''')\n",
    "\n",
    "#close out the connection\n",
    "c.close()\n",
    "conn.close()"
   ]
  },
  {
   "cell_type": "code",
   "execution_count": null,
   "metadata": {},
   "outputs": [],
   "source": []
  }
 ],
 "metadata": {
  "kernelspec": {
   "display_name": "Python 3",
   "language": "python",
   "name": "python3"
  },
  "language_info": {
   "codemirror_mode": {
    "name": "ipython",
    "version": 3
   },
   "file_extension": ".py",
   "mimetype": "text/x-python",
   "name": "python",
   "nbconvert_exporter": "python",
   "pygments_lexer": "ipython3",
   "version": "3.7.3"
  }
 },
 "nbformat": 4,
 "nbformat_minor": 2
}
